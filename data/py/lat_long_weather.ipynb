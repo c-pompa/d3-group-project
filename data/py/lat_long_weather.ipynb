{
 "cells": [
  {
   "cell_type": "code",
   "execution_count": 2,
   "metadata": {
    "ExecuteTime": {
     "end_time": "2020-08-15T03:31:16.311463Z",
     "start_time": "2020-08-15T03:31:15.933064Z"
    }
   },
   "outputs": [],
   "source": [
    "# Dependencies and Setup\n",
    "import pandas as pd\n",
    "import numpy as np\n",
    "import time\n",
    "from pprint import pprint\n",
    "import requests\n",
    "from datetime import date, timedelta, datetime\n",
    "import json\n",
    "# Import API key\n",
    "# from config import weather_api_key\n",
    "from pprint import pprint"
   ]
  },
  {
   "cell_type": "markdown",
   "metadata": {
    "ExecuteTime": {
     "end_time": "2020-08-11T23:36:29.183999Z",
     "start_time": "2020-08-11T23:36:29.180008Z"
    },
    "heading_collapsed": true
   },
   "source": [
    "### Get Long Lat list of tuples to pass into Weather API"
   ]
  },
  {
   "cell_type": "code",
   "execution_count": null,
   "metadata": {
    "ExecuteTime": {
     "end_time": "2020-08-13T19:40:51.477502Z",
     "start_time": "2020-08-13T19:40:51.473550Z"
    },
    "hidden": true
   },
   "outputs": [],
   "source": [
    "geojson_data = 'https://earthquake.usgs.gov/earthquakes/feed/v1.0/summary/4.5_month.geojson'"
   ]
  },
  {
   "cell_type": "code",
   "execution_count": null,
   "metadata": {
    "ExecuteTime": {
     "end_time": "2020-08-13T19:40:52.446931Z",
     "start_time": "2020-08-13T19:40:51.685188Z"
    },
    "hidden": true
   },
   "outputs": [],
   "source": [
    "response = requests.get(geojson_data).json()\n",
    "features = response[\"features\"]\n",
    "test = features[0]['properties']\n",
    "coords_list = []\n",
    "for data in features:\n",
    "    time = data['properties']['time']\n",
    "    magnitude = data['properties']['mag']\n",
    "    place = data['properties']['place']\n",
    "    \n",
    "    long_coords = data[\"geometry\"][\"coordinates\"][0]\n",
    "    lat_coords = data[\"geometry\"][\"coordinates\"][1]\n",
    "    \n",
    "    coords = {\n",
    "            'latlng': f\"{lat_coords}, {long_coords}\",\n",
    "            'lat': lat_coords,\n",
    "            'long': long_coords,\n",
    "            'time': time,\n",
    "            'magnitude': magnitude,\n",
    "            'place': place}\n",
    "    \n",
    "    coords_list.append(coords)\n",
    "pprint(coords_list)\n",
    "# coords_list"
   ]
  },
  {
   "cell_type": "code",
   "execution_count": null,
   "metadata": {
    "ExecuteTime": {
     "end_time": "2020-08-13T19:40:52.454911Z",
     "start_time": "2020-08-13T19:40:52.447928Z"
    },
    "hidden": true
   },
   "outputs": [],
   "source": [
    "len(coords_list)"
   ]
  },
  {
   "cell_type": "markdown",
   "metadata": {
    "hidden": true
   },
   "source": [
    "-----"
   ]
  },
  {
   "cell_type": "markdown",
   "metadata": {
    "heading_collapsed": true
   },
   "source": [
    "### Use Coordinates to get historical weather data.\n",
    "Coordinates represent earthquake lat long location"
   ]
  },
  {
   "cell_type": "markdown",
   "metadata": {
    "hidden": true
   },
   "source": [
    "This section creates the table WeatherSeries in the database. WeatherSeries has 4 day weather forecast and matching earthquake data."
   ]
  },
  {
   "cell_type": "code",
   "execution_count": null,
   "metadata": {
    "ExecuteTime": {
     "end_time": "2020-08-13T19:40:56.698884Z",
     "start_time": "2020-08-13T19:40:56.689886Z"
    },
    "hidden": true
   },
   "outputs": [],
   "source": [
    "from tqdm import tqdm\n",
    "from tqdm import tqdm_notebook"
   ]
  },
  {
   "cell_type": "code",
   "execution_count": null,
   "metadata": {
    "ExecuteTime": {
     "end_time": "2020-08-13T19:40:56.928800Z",
     "start_time": "2020-08-13T19:40:56.925795Z"
    },
    "hidden": true
   },
   "outputs": [],
   "source": [
    "# for coordinates in coords_list:\n",
    "#     # Lat / long\n",
    "#     coords = coordinates['latlng']\n",
    "# coords"
   ]
  },
  {
   "cell_type": "code",
   "execution_count": null,
   "metadata": {
    "ExecuteTime": {
     "end_time": "2020-08-13T19:40:57.147423Z",
     "start_time": "2020-08-13T19:40:57.144431Z"
    },
    "hidden": true
   },
   "outputs": [],
   "source": [
    "# base_url = 'http://api.weatherstack.com/historical'\n",
    "# params_weather = {'access_key': weather_api_key, \n",
    "#                 'query': coords,\n",
    "#                 'historical_date_start': time_range_begin,\n",
    "#                 'historical_date_end': time_range_end,\n",
    "#                 'units': 'f'\n",
    "#              }\n",
    "# response = requests.get(base_url, params=params_weather).url\n",
    "# response"
   ]
  },
  {
   "cell_type": "code",
   "execution_count": null,
   "metadata": {
    "ExecuteTime": {
     "end_time": "2020-08-13T19:46:13.712093Z",
     "start_time": "2020-08-13T19:42:15.790366Z"
    },
    "hidden": true
   },
   "outputs": [],
   "source": [
    "pbar = tqdm(total=len(coords_list))\n",
    "\n",
    "tuple_of_data = []\n",
    "add_tuple = {}\n",
    "counter = 0\n",
    "\n",
    "def checkForTwo(number):\n",
    "#     if (int(number)) <= 1:\n",
    "#         number = '1'\n",
    "    if (int(number)) < 10:\n",
    "        number = \"0\" + str(number)\n",
    "    else:\n",
    "#         print(number)\n",
    "        number = str(number)\n",
    "        pass\n",
    "    return number\n",
    "\n",
    "for coordinates in coords_list:\n",
    "    # Lat / long\n",
    "    coords = coordinates['latlng']\n",
    "    \n",
    "    ######################\n",
    "    ## Earthquake time conversion\n",
    "    ######################\n",
    "    earthquake_time = coordinates['time']\n",
    "    dt3 = datetime.fromtimestamp(earthquake_time / 1000)\n",
    "    # Time range end is the day of the earthquake\n",
    "    time_range_end = str(dt3.year) + \"-\" + checkForTwo(dt3.month) + \"-\" + checkForTwo(dt3.day)\n",
    "    \n",
    "    # Time range begin is 3 days before the earthquake\n",
    "    four_day_series = dt3 - timedelta(3)\n",
    "    four_day_day = four_day_series\n",
    "    time_range_begin = str(dt3.year) + \"-\" + checkForTwo(dt3.month) + \"-\" + checkForTwo(four_day_day.day)\n",
    "    ######################\n",
    "    \n",
    "    base_url = 'http://api.weatherstack.com/historical'\n",
    "    params_weather = {'access_key': weather_api_key, \n",
    "                    'query': coords,\n",
    "                    'historical_date_start': time_range_begin,\n",
    "                    'historical_date_end': time_range_end,\n",
    "                    'units': 'f'\n",
    "                 }\n",
    "    \n",
    "    response = requests.get(base_url, params=params_weather).json()\n",
    "    # url_link = requests.get(base_url, params=params_weather).url\n",
    "\n",
    "    try: \n",
    "        # extract results\n",
    "        location = response.get('location')\n",
    "        # City, Country, Region\n",
    "        city = location[\"name\"]\n",
    "        country = location[\"country\"]\n",
    "        region = location[\"region\"]\n",
    "\n",
    "        # Historical Only\n",
    "        historical = response['historical']\n",
    "#         print(region)\n",
    "        for hist in historical:\n",
    "            add_tuple = {\n",
    "                'city': city,\n",
    "                'country': country,\n",
    "                'region': region,\n",
    "                'avgtemp': historical[hist]['avgtemp'],\n",
    "                'date': historical[hist]['date'],\n",
    "                'date_epoch': historical[hist]['date_epoch'],\n",
    "                'maxtemp': historical[hist]['maxtemp'],\n",
    "                'mintemp': historical[hist]['mintemp'],\n",
    "                'sunhour': historical[hist]['sunhour'],\n",
    "                'totalsnow': historical[hist]['totalsnow'],\n",
    "                'uv_index': historical[hist]['uv_index'],\n",
    "                'long': coordinates['long'],\n",
    "                'lat': coordinates['lat'],\n",
    "                'time': coordinates['time'],\n",
    "                'magnitude': coordinates['magnitude'],\n",
    "                'place': coordinates['place']\n",
    "            }\n",
    "            tuple_of_data.append(add_tuple)\n",
    "            pbar.update(1)\n",
    "    except TypeError as e:\n",
    "        pbar.update(1)\n",
    "    # print(e)\n",
    "        continue\n",
    "    pbar.update(1)\n",
    "    counter += 1\n",
    "\n",
    "pbar.close() \n",
    "\n",
    "# tuple_of_data"
   ]
  },
  {
   "cell_type": "code",
   "execution_count": null,
   "metadata": {
    "ExecuteTime": {
     "end_time": "2020-08-13T19:46:13.716111Z",
     "start_time": "2020-08-13T19:46:13.713119Z"
    },
    "hidden": true
   },
   "outputs": [],
   "source": [
    "len(tuple_of_data)"
   ]
  },
  {
   "cell_type": "markdown",
   "metadata": {
    "heading_collapsed": true
   },
   "source": [
    "## Saving to JSON"
   ]
  },
  {
   "cell_type": "code",
   "execution_count": null,
   "metadata": {
    "ExecuteTime": {
     "end_time": "2020-08-13T19:52:41.485618Z",
     "start_time": "2020-08-13T19:52:41.481628Z"
    },
    "hidden": true
   },
   "outputs": [],
   "source": [
    "from datetime import datetime\n",
    "now = datetime.now()"
   ]
  },
  {
   "cell_type": "code",
   "execution_count": null,
   "metadata": {
    "ExecuteTime": {
     "end_time": "2020-08-13T19:52:41.990668Z",
     "start_time": "2020-08-13T19:52:41.921749Z"
    },
    "hidden": true
   },
   "outputs": [],
   "source": [
    "# Get time\n",
    "timedate = now.strftime(\"%Y-%m-%d_%H_%M_%S\")\n",
    "\n",
    "# SAVE: Player_position\n",
    "with open(f'../{timedate}_4_day_weather_for_earthquakes.json', 'w') as fp:\n",
    "    json.dump(tuple_of_data, fp)\n",
    "    "
   ]
  },
  {
   "cell_type": "code",
   "execution_count": null,
   "metadata": {
    "ExecuteTime": {
     "end_time": "2020-08-12T04:30:39.823527Z",
     "start_time": "2020-08-12T04:30:39.820507Z"
    },
    "hidden": true
   },
   "outputs": [],
   "source": [
    "# del tuple_of_data"
   ]
  },
  {
   "cell_type": "markdown",
   "metadata": {},
   "source": [
    "## Opening JSON .. Do not have to run the api again."
   ]
  },
  {
   "cell_type": "code",
   "execution_count": 7,
   "metadata": {
    "ExecuteTime": {
     "end_time": "2020-08-15T03:31:17.180812Z",
     "start_time": "2020-08-15T03:31:17.170869Z"
    }
   },
   "outputs": [],
   "source": [
    "# Open raw json to parse\n",
    "with open('./CA_temps_2020Aug08.json', 'r') as f:\n",
    "    weather_earthquake_data = json.load(f)"
   ]
  },
  {
   "cell_type": "code",
   "execution_count": 8,
   "metadata": {
    "ExecuteTime": {
     "end_time": "2020-08-15T03:31:17.364292Z",
     "start_time": "2020-08-15T03:31:17.342326Z"
    }
   },
   "outputs": [
    {
     "data": {
      "text/html": [
       "<div>\n",
       "<style scoped>\n",
       "    .dataframe tbody tr th:only-of-type {\n",
       "        vertical-align: middle;\n",
       "    }\n",
       "\n",
       "    .dataframe tbody tr th {\n",
       "        vertical-align: top;\n",
       "    }\n",
       "\n",
       "    .dataframe thead th {\n",
       "        text-align: right;\n",
       "    }\n",
       "</style>\n",
       "<table border=\"1\" class=\"dataframe\">\n",
       "  <thead>\n",
       "    <tr style=\"text-align: right;\">\n",
       "      <th></th>\n",
       "      <th>City</th>\n",
       "      <th>Country</th>\n",
       "      <th>Latitude</th>\n",
       "      <th>Longitude</th>\n",
       "      <th>Avg Temperature 2020-08-07</th>\n",
       "      <th>Avg Temperature 2020-08-08</th>\n",
       "      <th>Temp_Difference</th>\n",
       "      <th>Date</th>\n",
       "    </tr>\n",
       "  </thead>\n",
       "  <tbody>\n",
       "    <tr>\n",
       "      <th>0</th>\n",
       "      <td>El Pedregal</td>\n",
       "      <td>Mexico</td>\n",
       "      <td>32.0</td>\n",
       "      <td>-114.0</td>\n",
       "      <td>93</td>\n",
       "      <td>97</td>\n",
       "      <td>4</td>\n",
       "      <td>2020-08-08</td>\n",
       "    </tr>\n",
       "    <tr>\n",
       "      <th>1</th>\n",
       "      <td>La Joya</td>\n",
       "      <td>Mexico</td>\n",
       "      <td>32.0</td>\n",
       "      <td>-114.3</td>\n",
       "      <td>91</td>\n",
       "      <td>93</td>\n",
       "      <td>2</td>\n",
       "      <td>2020-08-08</td>\n",
       "    </tr>\n",
       "    <tr>\n",
       "      <th>2</th>\n",
       "      <td>La Capital Del Desierto</td>\n",
       "      <td>Mexico</td>\n",
       "      <td>32.0</td>\n",
       "      <td>-114.6</td>\n",
       "      <td>91</td>\n",
       "      <td>95</td>\n",
       "      <td>4</td>\n",
       "      <td>2020-08-08</td>\n",
       "    </tr>\n",
       "    <tr>\n",
       "      <th>3</th>\n",
       "      <td>El Doctor</td>\n",
       "      <td>Mexico</td>\n",
       "      <td>32.0</td>\n",
       "      <td>-114.9</td>\n",
       "      <td>91</td>\n",
       "      <td>95</td>\n",
       "      <td>4</td>\n",
       "      <td>2020-08-08</td>\n",
       "    </tr>\n",
       "    <tr>\n",
       "      <th>4</th>\n",
       "      <td>El Pokar</td>\n",
       "      <td>Mexico</td>\n",
       "      <td>32.0</td>\n",
       "      <td>-115.2</td>\n",
       "      <td>91</td>\n",
       "      <td>95</td>\n",
       "      <td>4</td>\n",
       "      <td>2020-08-08</td>\n",
       "    </tr>\n",
       "  </tbody>\n",
       "</table>\n",
       "</div>"
      ],
      "text/plain": [
       "                      City Country  Latitude  Longitude  \\\n",
       "0              El Pedregal  Mexico      32.0     -114.0   \n",
       "1                  La Joya  Mexico      32.0     -114.3   \n",
       "2  La Capital Del Desierto  Mexico      32.0     -114.6   \n",
       "3                El Doctor  Mexico      32.0     -114.9   \n",
       "4                 El Pokar  Mexico      32.0     -115.2   \n",
       "\n",
       "   Avg Temperature 2020-08-07  Avg Temperature 2020-08-08  Temp_Difference  \\\n",
       "0                          93                          97                4   \n",
       "1                          91                          93                2   \n",
       "2                          91                          95                4   \n",
       "3                          91                          95                4   \n",
       "4                          91                          95                4   \n",
       "\n",
       "         Date  \n",
       "0  2020-08-08  \n",
       "1  2020-08-08  \n",
       "2  2020-08-08  \n",
       "3  2020-08-08  \n",
       "4  2020-08-08  "
      ]
     },
     "execution_count": 8,
     "metadata": {},
     "output_type": "execute_result"
    }
   ],
   "source": [
    "# Dataframe to see raw(cleaned) data\n",
    "all_logs = pd.DataFrame(weather_earthquake_data)\n",
    "all_logs.head()"
   ]
  },
  {
   "cell_type": "markdown",
   "metadata": {},
   "source": [
    "## Upload to PostgreSQL"
   ]
  },
  {
   "cell_type": "code",
   "execution_count": 23,
   "metadata": {
    "ExecuteTime": {
     "end_time": "2020-08-13T19:53:27.876931Z",
     "start_time": "2020-08-13T19:53:27.873939Z"
    }
   },
   "outputs": [],
   "source": [
    "# Use this to clear out the db\n",
    "# ----------------------------------\n",
    "# Session.rollback(self)\n",
    "Base.metadata.drop_all(engine)\n",
    "session.commit()"
   ]
  },
  {
   "cell_type": "code",
   "execution_count": 24,
   "metadata": {
    "ExecuteTime": {
     "end_time": "2020-08-13T19:53:28.103140Z",
     "start_time": "2020-08-13T19:53:28.100145Z"
    }
   },
   "outputs": [],
   "source": [
    "# Delete previous entries\n",
    "del WeatherSeries\n",
    "# del LatLong"
   ]
  },
  {
   "cell_type": "code",
   "execution_count": 25,
   "metadata": {
    "ExecuteTime": {
     "end_time": "2020-08-15T03:31:20.000534Z",
     "start_time": "2020-08-15T03:31:19.893708Z"
    }
   },
   "outputs": [],
   "source": [
    "# Dependencies\n",
    "# ----------------------------------\n",
    "# Imports the method used for connecting to DBs\n",
    "from sqlalchemy import create_engine\n",
    "# Allow us to declare column types\n",
    "from sqlalchemy import Column, Integer, String, Text, DateTime, Float, Boolean, ForeignKey\n",
    "from sqlalchemy.orm import relationship\n",
    "from sqlalchemy.ext.declarative import declarative_base\n",
    "from sqlalchemy.orm import Session"
   ]
  },
  {
   "cell_type": "code",
   "execution_count": 26,
   "metadata": {
    "ExecuteTime": {
     "end_time": "2020-08-15T03:31:20.086576Z",
     "start_time": "2020-08-15T03:31:20.084530Z"
    }
   },
   "outputs": [],
   "source": [
    "# Create Weather and Earthquake Classes\n",
    "# ----------------------------------\n",
    "# Sets an object to utilize the default declarative base in SQL Alchemy\n",
    "Base = declarative_base()"
   ]
  },
  {
   "cell_type": "code",
   "execution_count": 27,
   "metadata": {
    "ExecuteTime": {
     "end_time": "2020-08-15T03:31:20.251296Z",
     "start_time": "2020-08-15T03:31:20.244315Z"
    }
   },
   "outputs": [],
   "source": [
    "## Class base template to upload to sqlite\n",
    "class WeatherSeries(Base):\n",
    "    __tablename__ = 'Temperature_two_days'\n",
    "\n",
    "    id = Column(Integer, primary_key=True)\n",
    "    city = Column(String(50))\n",
    "    country = Column(String(200))\n",
    "    lat = Column(String(12))\n",
    "    long = Column(String(12))\n",
    "    temp_day_before = Column(Float)\n",
    "    temp_day_of = Column(Float)\n",
    "    temp_difference = Column(Float)\n",
    "    date = Column(String(12))\n",
    "        \n",
    "    \n",
    "# class LatLong(Base):\n",
    "#     __tablename__ = 'latlong'\n",
    "#     id = Column(Integer, primary_key=True)\n",
    "#     lat = Column(String(12))\n",
    "#     long = Column(String(12))\n",
    "#     lat_rel = Column(Integer, ForeignKey('weatherSeries.id'))\n",
    "#     weatherSer = relationship(WeatherSeries, primaryjoin=lat_rel == WeatherSeries.id)\n",
    "#     latlong_id = Column(String,ForeignKey('latlong.id'))\n",
    "#     latlong_rel = relationship(LatLong)\n",
    "#     lat = Column(String(12))\n",
    "#     long = Column(String(12))"
   ]
  },
  {
   "cell_type": "code",
   "execution_count": 28,
   "metadata": {
    "ExecuteTime": {
     "end_time": "2020-08-15T03:31:21.810792Z",
     "start_time": "2020-08-15T03:31:21.798824Z"
    }
   },
   "outputs": [],
   "source": [
    "# Create Database Connection\n",
    "# ----------------------------------\n",
    "# Creates a connection to our DB\n",
    "# Engine opens the door. Conn is the walk through sign\n",
    "engine = create_engine(\"sqlite:///earthquake_weather.sqlite\")\n",
    "conn = engine.connect()\n",
    "# Create a \"Metadata\" Layer That Abstracts our SQL Database\n",
    "# ----------------------------------\n",
    "# Create (if not already in existence) the tables associated with our classes.\n",
    "Base.metadata.create_all(engine)\n",
    "# Create a Session Object to Connect to DB\n",
    "# ----------------------------------\n",
    "session = Session(bind=engine)"
   ]
  },
  {
   "cell_type": "code",
   "execution_count": 17,
   "metadata": {
    "ExecuteTime": {
     "end_time": "2020-08-13T19:53:31.333760Z",
     "start_time": "2020-08-13T19:53:31.331746Z"
    },
    "scrolled": true
   },
   "outputs": [],
   "source": [
    "# ## Add weather series to sql\n",
    "# x=0\n",
    "# while x <= (len(all_logs) - 1):    \n",
    "#     lat_long_data = LatLong(\n",
    "#         lat = all_logs[\"lat\"][x],\n",
    "#         long = all_logs[\"long\"][x]\n",
    "#         )\n",
    "#     x+=1\n",
    "#     # Add Records to the Appropriate DB\n",
    "#     # ----------------------------------\n",
    "#     # Use the SQL ALchemy methods to run simple \"INSERT\" statements using the classes and objects  \n",
    "#     session.add(lat_long_data)\n",
    "#     # session.add(earthquake_data)\n",
    "#     session.commit()\n",
    "# print('Complete: Uploaded to SQLite DB')"
   ]
  },
  {
   "cell_type": "code",
   "execution_count": 29,
   "metadata": {
    "ExecuteTime": {
     "end_time": "2020-08-13T19:53:34.519465Z",
     "start_time": "2020-08-13T19:53:34.512463Z"
    }
   },
   "outputs": [],
   "source": [
    "## Function: Add Weather Series to sql\n",
    "def addToSQL(all_logs):\n",
    "    x=0\n",
    "    while x <= (len(all_logs) - 1):\n",
    "        try: \n",
    "            weather_data = WeatherSeries(\n",
    "                city = all_logs[\"City\"][x],\n",
    "                country = all_logs[\"Country\"][x],\n",
    "                lat = all_logs[\"Latitude\"][x],\n",
    "                long = all_logs[\"Longitude\"][x],\n",
    "                temp_day_before = all_logs[\"Avg Temperature 2020-08-07\"][x],\n",
    "                temp_day_of = all_logs[\"Avg Temperature 2020-08-08\"][x],\n",
    "                temp_difference = all_logs[\"Temp_Difference\"][x],\n",
    "                date = all_logs[\"Date\"][x],                       \n",
    "                )\n",
    "            x+=1\n",
    "        except OperationalError:\n",
    "            pass\n",
    "            \n",
    "        # Add Records to the Appropriate DB\n",
    "        # ----------------------------------\n",
    "        # Use the SQL ALchemy methods to run simple \"INSERT\" statements using the classes and objects  \n",
    "        session.add(weather_data)\n",
    "        # session.add(earthquake_data)\n",
    "        session.commit()\n",
    "    return 'Complete: Uploaded to SQLite DB'"
   ]
  },
  {
   "cell_type": "code",
   "execution_count": null,
   "metadata": {},
   "outputs": [],
   "source": [
    "WeatherSeries"
   ]
  },
  {
   "cell_type": "code",
   "execution_count": 30,
   "metadata": {
    "ExecuteTime": {
     "end_time": "2020-08-13T19:53:47.753721Z",
     "start_time": "2020-08-13T19:53:34.803100Z"
    },
    "scrolled": true
   },
   "outputs": [
    {
     "data": {
      "text/plain": [
       "'Complete: Uploaded to SQLite DB'"
      ]
     },
     "execution_count": 30,
     "metadata": {},
     "output_type": "execute_result"
    }
   ],
   "source": [
    "addToSQL(all_logs)"
   ]
  },
  {
   "cell_type": "markdown",
   "metadata": {},
   "source": [
    "----"
   ]
  },
  {
   "cell_type": "markdown",
   "metadata": {},
   "source": [
    "## Query from DB"
   ]
  },
  {
   "cell_type": "markdown",
   "metadata": {},
   "source": [
    "DataFrame "
   ]
  },
  {
   "cell_type": "code",
   "execution_count": 31,
   "metadata": {
    "ExecuteTime": {
     "end_time": "2020-08-15T03:31:24.634671Z",
     "start_time": "2020-08-15T03:31:24.609739Z"
    }
   },
   "outputs": [
    {
     "data": {
      "text/html": [
       "<div>\n",
       "<style scoped>\n",
       "    .dataframe tbody tr th:only-of-type {\n",
       "        vertical-align: middle;\n",
       "    }\n",
       "\n",
       "    .dataframe tbody tr th {\n",
       "        vertical-align: top;\n",
       "    }\n",
       "\n",
       "    .dataframe thead th {\n",
       "        text-align: right;\n",
       "    }\n",
       "</style>\n",
       "<table border=\"1\" class=\"dataframe\">\n",
       "  <thead>\n",
       "    <tr style=\"text-align: right;\">\n",
       "      <th></th>\n",
       "      <th>id</th>\n",
       "      <th>city</th>\n",
       "      <th>country</th>\n",
       "      <th>lat</th>\n",
       "      <th>long</th>\n",
       "      <th>temp_day_before</th>\n",
       "      <th>temp_day_of</th>\n",
       "      <th>temp_difference</th>\n",
       "      <th>date</th>\n",
       "    </tr>\n",
       "  </thead>\n",
       "  <tbody>\n",
       "    <tr>\n",
       "      <th>0</th>\n",
       "      <td>1</td>\n",
       "      <td>El Pedregal</td>\n",
       "      <td>Mexico</td>\n",
       "      <td>32.0</td>\n",
       "      <td>-114.0</td>\n",
       "      <td>93.0</td>\n",
       "      <td>97.0</td>\n",
       "      <td>4.0</td>\n",
       "      <td>2020-08-08</td>\n",
       "    </tr>\n",
       "    <tr>\n",
       "      <th>1</th>\n",
       "      <td>2</td>\n",
       "      <td>La Joya</td>\n",
       "      <td>Mexico</td>\n",
       "      <td>32.0</td>\n",
       "      <td>-114.3</td>\n",
       "      <td>91.0</td>\n",
       "      <td>93.0</td>\n",
       "      <td>2.0</td>\n",
       "      <td>2020-08-08</td>\n",
       "    </tr>\n",
       "    <tr>\n",
       "      <th>2</th>\n",
       "      <td>3</td>\n",
       "      <td>La Capital Del Desierto</td>\n",
       "      <td>Mexico</td>\n",
       "      <td>32.0</td>\n",
       "      <td>-114.6</td>\n",
       "      <td>91.0</td>\n",
       "      <td>95.0</td>\n",
       "      <td>4.0</td>\n",
       "      <td>2020-08-08</td>\n",
       "    </tr>\n",
       "    <tr>\n",
       "      <th>3</th>\n",
       "      <td>4</td>\n",
       "      <td>El Doctor</td>\n",
       "      <td>Mexico</td>\n",
       "      <td>32.0</td>\n",
       "      <td>-114.9</td>\n",
       "      <td>91.0</td>\n",
       "      <td>95.0</td>\n",
       "      <td>4.0</td>\n",
       "      <td>2020-08-08</td>\n",
       "    </tr>\n",
       "    <tr>\n",
       "      <th>4</th>\n",
       "      <td>5</td>\n",
       "      <td>El Pokar</td>\n",
       "      <td>Mexico</td>\n",
       "      <td>32.0</td>\n",
       "      <td>-115.2</td>\n",
       "      <td>91.0</td>\n",
       "      <td>95.0</td>\n",
       "      <td>4.0</td>\n",
       "      <td>2020-08-08</td>\n",
       "    </tr>\n",
       "  </tbody>\n",
       "</table>\n",
       "</div>"
      ],
      "text/plain": [
       "   id                     city country   lat    long  temp_day_before  \\\n",
       "0   1              El Pedregal  Mexico  32.0  -114.0             93.0   \n",
       "1   2                  La Joya  Mexico  32.0  -114.3             91.0   \n",
       "2   3  La Capital Del Desierto  Mexico  32.0  -114.6             91.0   \n",
       "3   4                El Doctor  Mexico  32.0  -114.9             91.0   \n",
       "4   5                 El Pokar  Mexico  32.0  -115.2             91.0   \n",
       "\n",
       "   temp_day_of  temp_difference        date  \n",
       "0         97.0              4.0  2020-08-08  \n",
       "1         93.0              2.0  2020-08-08  \n",
       "2         95.0              4.0  2020-08-08  \n",
       "3         95.0              4.0  2020-08-08  \n",
       "4         95.0              4.0  2020-08-08  "
      ]
     },
     "execution_count": 31,
     "metadata": {},
     "output_type": "execute_result"
    }
   ],
   "source": [
    "# Verify Data \n",
    "# Create DataFrame from sql table Weather\n",
    "weather_data_df = pd.read_sql(\"SELECT * FROM Temperature_two_days\", conn)\n",
    "weather_data_df.head()"
   ]
  },
  {
   "cell_type": "code",
   "execution_count": 38,
   "metadata": {},
   "outputs": [
    {
     "data": {
      "text/plain": [
       "id                 629.500000\n",
       "temp_day_before     75.032591\n",
       "temp_day_of         78.567568\n",
       "temp_difference      3.554054\n",
       "dtype: float64"
      ]
     },
     "execution_count": 38,
     "metadata": {},
     "output_type": "execute_result"
    }
   ],
   "source": [
    "weather_data_df.mean(axis=0)"
   ]
  },
  {
   "cell_type": "code",
   "execution_count": null,
   "metadata": {
    "ExecuteTime": {
     "end_time": "2020-08-15T03:23:43.338915Z",
     "start_time": "2020-08-15T03:23:43.333930Z"
    }
   },
   "outputs": [],
   "source": [
    "lists = avg['avgtemp'].to_list()\n",
    "\n",
    "\n",
    "def Average(lst): \n",
    "    return sum(lst) / len(lst) \n",
    "Average(lists)"
   ]
  },
  {
   "cell_type": "code",
   "execution_count": 18,
   "metadata": {
    "ExecuteTime": {
     "end_time": "2020-08-15T03:35:48.364095Z",
     "start_time": "2020-08-15T03:35:48.339139Z"
    }
   },
   "outputs": [
    {
     "data": {
      "text/html": [
       "<div>\n",
       "<style scoped>\n",
       "    .dataframe tbody tr th:only-of-type {\n",
       "        vertical-align: middle;\n",
       "    }\n",
       "\n",
       "    .dataframe tbody tr th {\n",
       "        vertical-align: top;\n",
       "    }\n",
       "\n",
       "    .dataframe thead th {\n",
       "        text-align: right;\n",
       "    }\n",
       "</style>\n",
       "<table border=\"1\" class=\"dataframe\">\n",
       "  <thead>\n",
       "    <tr style=\"text-align: right;\">\n",
       "      <th></th>\n",
       "      <th>id</th>\n",
       "      <th>city</th>\n",
       "      <th>country</th>\n",
       "      <th>region</th>\n",
       "      <th>avgtemp</th>\n",
       "      <th>date</th>\n",
       "      <th>date_epoch</th>\n",
       "      <th>maxtemp</th>\n",
       "      <th>mintemp</th>\n",
       "      <th>sunhour</th>\n",
       "      <th>totalsnow</th>\n",
       "      <th>uv_index</th>\n",
       "      <th>magnitude</th>\n",
       "      <th>place</th>\n",
       "      <th>lat</th>\n",
       "      <th>long</th>\n",
       "    </tr>\n",
       "  </thead>\n",
       "  <tbody>\n",
       "    <tr>\n",
       "      <th>412</th>\n",
       "      <td>413</td>\n",
       "      <td>Bwehaltalam</td>\n",
       "      <td>Vanuatu</td>\n",
       "      <td>Ambrym</td>\n",
       "      <td>77.0</td>\n",
       "      <td>2020-08-02</td>\n",
       "      <td>1.596326e+09</td>\n",
       "      <td>81.0</td>\n",
       "      <td>68.0</td>\n",
       "      <td>5.7</td>\n",
       "      <td>0.0</td>\n",
       "      <td>6.0</td>\n",
       "      <td>6.4</td>\n",
       "      <td>71 km E of Lakatoro, Vanuatu</td>\n",
       "      <td>-16.1118</td>\n",
       "      <td>168.0816</td>\n",
       "    </tr>\n",
       "    <tr>\n",
       "      <th>413</th>\n",
       "      <td>414</td>\n",
       "      <td>Bwehaltalam</td>\n",
       "      <td>Vanuatu</td>\n",
       "      <td>Ambrym</td>\n",
       "      <td>77.0</td>\n",
       "      <td>2020-08-03</td>\n",
       "      <td>1.596413e+09</td>\n",
       "      <td>81.0</td>\n",
       "      <td>68.0</td>\n",
       "      <td>5.7</td>\n",
       "      <td>0.0</td>\n",
       "      <td>6.0</td>\n",
       "      <td>6.4</td>\n",
       "      <td>71 km E of Lakatoro, Vanuatu</td>\n",
       "      <td>-16.1118</td>\n",
       "      <td>168.0816</td>\n",
       "    </tr>\n",
       "    <tr>\n",
       "      <th>414</th>\n",
       "      <td>415</td>\n",
       "      <td>Bwehaltalam</td>\n",
       "      <td>Vanuatu</td>\n",
       "      <td>Ambrym</td>\n",
       "      <td>75.0</td>\n",
       "      <td>2020-08-04</td>\n",
       "      <td>1.596499e+09</td>\n",
       "      <td>79.0</td>\n",
       "      <td>63.0</td>\n",
       "      <td>7.2</td>\n",
       "      <td>0.0</td>\n",
       "      <td>6.0</td>\n",
       "      <td>6.4</td>\n",
       "      <td>71 km E of Lakatoro, Vanuatu</td>\n",
       "      <td>-16.1118</td>\n",
       "      <td>168.0816</td>\n",
       "    </tr>\n",
       "    <tr>\n",
       "      <th>415</th>\n",
       "      <td>416</td>\n",
       "      <td>Bwehaltalam</td>\n",
       "      <td>Vanuatu</td>\n",
       "      <td>Ambrym</td>\n",
       "      <td>75.0</td>\n",
       "      <td>2020-08-05</td>\n",
       "      <td>1.596586e+09</td>\n",
       "      <td>79.0</td>\n",
       "      <td>64.0</td>\n",
       "      <td>7.2</td>\n",
       "      <td>0.0</td>\n",
       "      <td>6.0</td>\n",
       "      <td>6.4</td>\n",
       "      <td>71 km E of Lakatoro, Vanuatu</td>\n",
       "      <td>-16.1118</td>\n",
       "      <td>168.0816</td>\n",
       "    </tr>\n",
       "    <tr>\n",
       "      <th>704</th>\n",
       "      <td>705</td>\n",
       "      <td>Unga</td>\n",
       "      <td>United States of America</td>\n",
       "      <td>Alaska</td>\n",
       "      <td>54.0</td>\n",
       "      <td>2020-07-25</td>\n",
       "      <td>1.595635e+09</td>\n",
       "      <td>57.0</td>\n",
       "      <td>50.0</td>\n",
       "      <td>10.1</td>\n",
       "      <td>0.0</td>\n",
       "      <td>3.0</td>\n",
       "      <td>6.1</td>\n",
       "      <td>66 km SW of Sand Point, Alaska</td>\n",
       "      <td>54.8674</td>\n",
       "      <td>-161.1436</td>\n",
       "    </tr>\n",
       "    <tr>\n",
       "      <th>705</th>\n",
       "      <td>706</td>\n",
       "      <td>Unga</td>\n",
       "      <td>United States of America</td>\n",
       "      <td>Alaska</td>\n",
       "      <td>54.0</td>\n",
       "      <td>2020-07-26</td>\n",
       "      <td>1.595722e+09</td>\n",
       "      <td>55.0</td>\n",
       "      <td>50.0</td>\n",
       "      <td>11.0</td>\n",
       "      <td>0.0</td>\n",
       "      <td>3.0</td>\n",
       "      <td>6.1</td>\n",
       "      <td>66 km SW of Sand Point, Alaska</td>\n",
       "      <td>54.8674</td>\n",
       "      <td>-161.1436</td>\n",
       "    </tr>\n",
       "    <tr>\n",
       "      <th>706</th>\n",
       "      <td>707</td>\n",
       "      <td>Unga</td>\n",
       "      <td>United States of America</td>\n",
       "      <td>Alaska</td>\n",
       "      <td>54.0</td>\n",
       "      <td>2020-07-27</td>\n",
       "      <td>1.595808e+09</td>\n",
       "      <td>55.0</td>\n",
       "      <td>45.0</td>\n",
       "      <td>10.9</td>\n",
       "      <td>0.0</td>\n",
       "      <td>4.0</td>\n",
       "      <td>6.1</td>\n",
       "      <td>66 km SW of Sand Point, Alaska</td>\n",
       "      <td>54.8674</td>\n",
       "      <td>-161.1436</td>\n",
       "    </tr>\n",
       "    <tr>\n",
       "      <th>707</th>\n",
       "      <td>708</td>\n",
       "      <td>Unga</td>\n",
       "      <td>United States of America</td>\n",
       "      <td>Alaska</td>\n",
       "      <td>57.0</td>\n",
       "      <td>2020-07-28</td>\n",
       "      <td>1.595894e+09</td>\n",
       "      <td>59.0</td>\n",
       "      <td>50.0</td>\n",
       "      <td>14.5</td>\n",
       "      <td>0.0</td>\n",
       "      <td>4.0</td>\n",
       "      <td>6.1</td>\n",
       "      <td>66 km SW of Sand Point, Alaska</td>\n",
       "      <td>54.8674</td>\n",
       "      <td>-161.1436</td>\n",
       "    </tr>\n",
       "    <tr>\n",
       "      <th>1060</th>\n",
       "      <td>1061</td>\n",
       "      <td>Rongma</td>\n",
       "      <td>China</td>\n",
       "      <td>Xizang</td>\n",
       "      <td>64.0</td>\n",
       "      <td>2020-07-19</td>\n",
       "      <td>1.595117e+09</td>\n",
       "      <td>75.0</td>\n",
       "      <td>54.0</td>\n",
       "      <td>14.0</td>\n",
       "      <td>0.0</td>\n",
       "      <td>5.0</td>\n",
       "      <td>6.3</td>\n",
       "      <td>western Xizang</td>\n",
       "      <td>33.1463</td>\n",
       "      <td>86.8666</td>\n",
       "    </tr>\n",
       "    <tr>\n",
       "      <th>1061</th>\n",
       "      <td>1062</td>\n",
       "      <td>Rongma</td>\n",
       "      <td>China</td>\n",
       "      <td>Xizang</td>\n",
       "      <td>57.0</td>\n",
       "      <td>2020-07-20</td>\n",
       "      <td>1.595203e+09</td>\n",
       "      <td>64.0</td>\n",
       "      <td>48.0</td>\n",
       "      <td>14.0</td>\n",
       "      <td>0.0</td>\n",
       "      <td>4.0</td>\n",
       "      <td>6.3</td>\n",
       "      <td>western Xizang</td>\n",
       "      <td>33.1463</td>\n",
       "      <td>86.8666</td>\n",
       "    </tr>\n",
       "    <tr>\n",
       "      <th>1062</th>\n",
       "      <td>1063</td>\n",
       "      <td>Rongma</td>\n",
       "      <td>China</td>\n",
       "      <td>Xizang</td>\n",
       "      <td>59.0</td>\n",
       "      <td>2020-07-21</td>\n",
       "      <td>1.595290e+09</td>\n",
       "      <td>68.0</td>\n",
       "      <td>46.0</td>\n",
       "      <td>14.0</td>\n",
       "      <td>0.0</td>\n",
       "      <td>4.0</td>\n",
       "      <td>6.3</td>\n",
       "      <td>western Xizang</td>\n",
       "      <td>33.1463</td>\n",
       "      <td>86.8666</td>\n",
       "    </tr>\n",
       "    <tr>\n",
       "      <th>1063</th>\n",
       "      <td>1064</td>\n",
       "      <td>Rongma</td>\n",
       "      <td>China</td>\n",
       "      <td>Xizang</td>\n",
       "      <td>61.0</td>\n",
       "      <td>2020-07-22</td>\n",
       "      <td>1.595376e+09</td>\n",
       "      <td>72.0</td>\n",
       "      <td>50.0</td>\n",
       "      <td>12.2</td>\n",
       "      <td>0.0</td>\n",
       "      <td>5.0</td>\n",
       "      <td>6.3</td>\n",
       "      <td>western Xizang</td>\n",
       "      <td>33.1463</td>\n",
       "      <td>86.8666</td>\n",
       "    </tr>\n",
       "    <tr>\n",
       "      <th>1116</th>\n",
       "      <td>1117</td>\n",
       "      <td>Unga</td>\n",
       "      <td>United States of America</td>\n",
       "      <td>Alaska</td>\n",
       "      <td>54.0</td>\n",
       "      <td>2020-07-18</td>\n",
       "      <td>1.595030e+09</td>\n",
       "      <td>55.0</td>\n",
       "      <td>52.0</td>\n",
       "      <td>10.5</td>\n",
       "      <td>0.0</td>\n",
       "      <td>3.0</td>\n",
       "      <td>6.1</td>\n",
       "      <td>103 km ESE of Sand Point, Alaska</td>\n",
       "      <td>54.9322</td>\n",
       "      <td>-159.0423</td>\n",
       "    </tr>\n",
       "    <tr>\n",
       "      <th>1117</th>\n",
       "      <td>1118</td>\n",
       "      <td>Unga</td>\n",
       "      <td>United States of America</td>\n",
       "      <td>Alaska</td>\n",
       "      <td>55.0</td>\n",
       "      <td>2020-07-19</td>\n",
       "      <td>1.595117e+09</td>\n",
       "      <td>59.0</td>\n",
       "      <td>48.0</td>\n",
       "      <td>11.1</td>\n",
       "      <td>0.0</td>\n",
       "      <td>3.0</td>\n",
       "      <td>6.1</td>\n",
       "      <td>103 km ESE of Sand Point, Alaska</td>\n",
       "      <td>54.9322</td>\n",
       "      <td>-159.0423</td>\n",
       "    </tr>\n",
       "    <tr>\n",
       "      <th>1118</th>\n",
       "      <td>1119</td>\n",
       "      <td>Unga</td>\n",
       "      <td>United States of America</td>\n",
       "      <td>Alaska</td>\n",
       "      <td>57.0</td>\n",
       "      <td>2020-07-20</td>\n",
       "      <td>1.595203e+09</td>\n",
       "      <td>61.0</td>\n",
       "      <td>52.0</td>\n",
       "      <td>12.8</td>\n",
       "      <td>0.0</td>\n",
       "      <td>4.0</td>\n",
       "      <td>6.1</td>\n",
       "      <td>103 km ESE of Sand Point, Alaska</td>\n",
       "      <td>54.9322</td>\n",
       "      <td>-159.0423</td>\n",
       "    </tr>\n",
       "    <tr>\n",
       "      <th>1119</th>\n",
       "      <td>1120</td>\n",
       "      <td>Unga</td>\n",
       "      <td>United States of America</td>\n",
       "      <td>Alaska</td>\n",
       "      <td>55.0</td>\n",
       "      <td>2020-07-21</td>\n",
       "      <td>1.595290e+09</td>\n",
       "      <td>59.0</td>\n",
       "      <td>52.0</td>\n",
       "      <td>11.0</td>\n",
       "      <td>0.0</td>\n",
       "      <td>4.0</td>\n",
       "      <td>6.1</td>\n",
       "      <td>103 km ESE of Sand Point, Alaska</td>\n",
       "      <td>54.9322</td>\n",
       "      <td>-159.0423</td>\n",
       "    </tr>\n",
       "    <tr>\n",
       "      <th>1120</th>\n",
       "      <td>1121</td>\n",
       "      <td>Ivanof Bay</td>\n",
       "      <td>United States of America</td>\n",
       "      <td>Alaska</td>\n",
       "      <td>54.0</td>\n",
       "      <td>2020-07-18</td>\n",
       "      <td>1.595030e+09</td>\n",
       "      <td>55.0</td>\n",
       "      <td>52.0</td>\n",
       "      <td>10.2</td>\n",
       "      <td>0.0</td>\n",
       "      <td>3.0</td>\n",
       "      <td>7.8</td>\n",
       "      <td>105 km SSE of Perryville, Alaska</td>\n",
       "      <td>55.0298</td>\n",
       "      <td>-158.5217</td>\n",
       "    </tr>\n",
       "    <tr>\n",
       "      <th>1121</th>\n",
       "      <td>1122</td>\n",
       "      <td>Ivanof Bay</td>\n",
       "      <td>United States of America</td>\n",
       "      <td>Alaska</td>\n",
       "      <td>55.0</td>\n",
       "      <td>2020-07-19</td>\n",
       "      <td>1.595117e+09</td>\n",
       "      <td>59.0</td>\n",
       "      <td>48.0</td>\n",
       "      <td>11.1</td>\n",
       "      <td>0.0</td>\n",
       "      <td>3.0</td>\n",
       "      <td>7.8</td>\n",
       "      <td>105 km SSE of Perryville, Alaska</td>\n",
       "      <td>55.0298</td>\n",
       "      <td>-158.5217</td>\n",
       "    </tr>\n",
       "    <tr>\n",
       "      <th>1122</th>\n",
       "      <td>1123</td>\n",
       "      <td>Ivanof Bay</td>\n",
       "      <td>United States of America</td>\n",
       "      <td>Alaska</td>\n",
       "      <td>57.0</td>\n",
       "      <td>2020-07-20</td>\n",
       "      <td>1.595203e+09</td>\n",
       "      <td>61.0</td>\n",
       "      <td>52.0</td>\n",
       "      <td>12.8</td>\n",
       "      <td>0.0</td>\n",
       "      <td>4.0</td>\n",
       "      <td>7.8</td>\n",
       "      <td>105 km SSE of Perryville, Alaska</td>\n",
       "      <td>55.0298</td>\n",
       "      <td>-158.5217</td>\n",
       "    </tr>\n",
       "    <tr>\n",
       "      <th>1123</th>\n",
       "      <td>1124</td>\n",
       "      <td>Ivanof Bay</td>\n",
       "      <td>United States of America</td>\n",
       "      <td>Alaska</td>\n",
       "      <td>55.0</td>\n",
       "      <td>2020-07-21</td>\n",
       "      <td>1.595290e+09</td>\n",
       "      <td>59.0</td>\n",
       "      <td>52.0</td>\n",
       "      <td>11.1</td>\n",
       "      <td>0.0</td>\n",
       "      <td>4.0</td>\n",
       "      <td>7.8</td>\n",
       "      <td>105 km SSE of Perryville, Alaska</td>\n",
       "      <td>55.0298</td>\n",
       "      <td>-158.5217</td>\n",
       "    </tr>\n",
       "    <tr>\n",
       "      <th>1328</th>\n",
       "      <td>1329</td>\n",
       "      <td>Falehau</td>\n",
       "      <td>Tonga</td>\n",
       "      <td>Vava</td>\n",
       "      <td>79.0</td>\n",
       "      <td>2020-07-15</td>\n",
       "      <td>1.594771e+09</td>\n",
       "      <td>79.0</td>\n",
       "      <td>66.0</td>\n",
       "      <td>5.8</td>\n",
       "      <td>0.0</td>\n",
       "      <td>6.0</td>\n",
       "      <td>6.1</td>\n",
       "      <td>141 km NE of Hihifo, Tonga</td>\n",
       "      <td>-15.2462</td>\n",
       "      <td>-172.6977</td>\n",
       "    </tr>\n",
       "    <tr>\n",
       "      <th>1329</th>\n",
       "      <td>1330</td>\n",
       "      <td>Falehau</td>\n",
       "      <td>Tonga</td>\n",
       "      <td>Vava</td>\n",
       "      <td>79.0</td>\n",
       "      <td>2020-07-16</td>\n",
       "      <td>1.594858e+09</td>\n",
       "      <td>79.0</td>\n",
       "      <td>66.0</td>\n",
       "      <td>7.2</td>\n",
       "      <td>0.0</td>\n",
       "      <td>6.0</td>\n",
       "      <td>6.1</td>\n",
       "      <td>141 km NE of Hihifo, Tonga</td>\n",
       "      <td>-15.2462</td>\n",
       "      <td>-172.6977</td>\n",
       "    </tr>\n",
       "    <tr>\n",
       "      <th>1330</th>\n",
       "      <td>1331</td>\n",
       "      <td>Falehau</td>\n",
       "      <td>Tonga</td>\n",
       "      <td>Vava</td>\n",
       "      <td>81.0</td>\n",
       "      <td>2020-07-17</td>\n",
       "      <td>1.594944e+09</td>\n",
       "      <td>81.0</td>\n",
       "      <td>79.0</td>\n",
       "      <td>7.2</td>\n",
       "      <td>0.0</td>\n",
       "      <td>6.0</td>\n",
       "      <td>6.1</td>\n",
       "      <td>141 km NE of Hihifo, Tonga</td>\n",
       "      <td>-15.2462</td>\n",
       "      <td>-172.6977</td>\n",
       "    </tr>\n",
       "    <tr>\n",
       "      <th>1331</th>\n",
       "      <td>1332</td>\n",
       "      <td>Falehau</td>\n",
       "      <td>Tonga</td>\n",
       "      <td>Vava</td>\n",
       "      <td>81.0</td>\n",
       "      <td>2020-07-18</td>\n",
       "      <td>1.595030e+09</td>\n",
       "      <td>81.0</td>\n",
       "      <td>81.0</td>\n",
       "      <td>5.8</td>\n",
       "      <td>0.0</td>\n",
       "      <td>6.0</td>\n",
       "      <td>6.1</td>\n",
       "      <td>141 km NE of Hihifo, Tonga</td>\n",
       "      <td>-15.2462</td>\n",
       "      <td>-172.6977</td>\n",
       "    </tr>\n",
       "    <tr>\n",
       "      <th>1392</th>\n",
       "      <td>1393</td>\n",
       "      <td>Jalebar</td>\n",
       "      <td>India</td>\n",
       "      <td>Andaman and Nicobar Islands</td>\n",
       "      <td>82.0</td>\n",
       "      <td>2020-07-14</td>\n",
       "      <td>1.594685e+09</td>\n",
       "      <td>84.0</td>\n",
       "      <td>77.0</td>\n",
       "      <td>7.7</td>\n",
       "      <td>0.0</td>\n",
       "      <td>6.0</td>\n",
       "      <td>6.1</td>\n",
       "      <td>236 km E of Port Blair, India</td>\n",
       "      <td>11.984</td>\n",
       "      <td>94.8885</td>\n",
       "    </tr>\n",
       "    <tr>\n",
       "      <th>1393</th>\n",
       "      <td>1394</td>\n",
       "      <td>Jalebar</td>\n",
       "      <td>India</td>\n",
       "      <td>Andaman and Nicobar Islands</td>\n",
       "      <td>84.0</td>\n",
       "      <td>2020-07-15</td>\n",
       "      <td>1.594771e+09</td>\n",
       "      <td>86.0</td>\n",
       "      <td>81.0</td>\n",
       "      <td>10.3</td>\n",
       "      <td>0.0</td>\n",
       "      <td>6.0</td>\n",
       "      <td>6.1</td>\n",
       "      <td>236 km E of Port Blair, India</td>\n",
       "      <td>11.984</td>\n",
       "      <td>94.8885</td>\n",
       "    </tr>\n",
       "    <tr>\n",
       "      <th>1394</th>\n",
       "      <td>1395</td>\n",
       "      <td>Jalebar</td>\n",
       "      <td>India</td>\n",
       "      <td>Andaman and Nicobar Islands</td>\n",
       "      <td>82.0</td>\n",
       "      <td>2020-07-16</td>\n",
       "      <td>1.594858e+09</td>\n",
       "      <td>84.0</td>\n",
       "      <td>70.0</td>\n",
       "      <td>6.4</td>\n",
       "      <td>0.0</td>\n",
       "      <td>6.0</td>\n",
       "      <td>6.1</td>\n",
       "      <td>236 km E of Port Blair, India</td>\n",
       "      <td>11.984</td>\n",
       "      <td>94.8885</td>\n",
       "    </tr>\n",
       "    <tr>\n",
       "      <th>1395</th>\n",
       "      <td>1396</td>\n",
       "      <td>Jalebar</td>\n",
       "      <td>India</td>\n",
       "      <td>Andaman and Nicobar Islands</td>\n",
       "      <td>81.0</td>\n",
       "      <td>2020-07-17</td>\n",
       "      <td>1.594944e+09</td>\n",
       "      <td>82.0</td>\n",
       "      <td>73.0</td>\n",
       "      <td>6.4</td>\n",
       "      <td>0.0</td>\n",
       "      <td>6.0</td>\n",
       "      <td>6.1</td>\n",
       "      <td>236 km E of Port Blair, India</td>\n",
       "      <td>11.984</td>\n",
       "      <td>94.8885</td>\n",
       "    </tr>\n",
       "    <tr>\n",
       "      <th>1432</th>\n",
       "      <td>1433</td>\n",
       "      <td>Sapa</td>\n",
       "      <td>Papua New Guinea</td>\n",
       "      <td>Morobe</td>\n",
       "      <td>70.0</td>\n",
       "      <td>2020-07-13</td>\n",
       "      <td>1.594598e+09</td>\n",
       "      <td>77.0</td>\n",
       "      <td>55.0</td>\n",
       "      <td>10.2</td>\n",
       "      <td>0.0</td>\n",
       "      <td>5.0</td>\n",
       "      <td>7.0</td>\n",
       "      <td>114 km NNW of Popondetta, Papua New Guinea</td>\n",
       "      <td>-7.8428</td>\n",
       "      <td>147.7656</td>\n",
       "    </tr>\n",
       "    <tr>\n",
       "      <th>1433</th>\n",
       "      <td>1434</td>\n",
       "      <td>Sapa</td>\n",
       "      <td>Papua New Guinea</td>\n",
       "      <td>Morobe</td>\n",
       "      <td>64.0</td>\n",
       "      <td>2020-07-14</td>\n",
       "      <td>1.594685e+09</td>\n",
       "      <td>70.0</td>\n",
       "      <td>54.0</td>\n",
       "      <td>5.9</td>\n",
       "      <td>0.0</td>\n",
       "      <td>4.0</td>\n",
       "      <td>7.0</td>\n",
       "      <td>114 km NNW of Popondetta, Papua New Guinea</td>\n",
       "      <td>-7.8428</td>\n",
       "      <td>147.7656</td>\n",
       "    </tr>\n",
       "    <tr>\n",
       "      <th>1434</th>\n",
       "      <td>1435</td>\n",
       "      <td>Sapa</td>\n",
       "      <td>Papua New Guinea</td>\n",
       "      <td>Morobe</td>\n",
       "      <td>68.0</td>\n",
       "      <td>2020-07-15</td>\n",
       "      <td>1.594771e+09</td>\n",
       "      <td>73.0</td>\n",
       "      <td>54.0</td>\n",
       "      <td>7.3</td>\n",
       "      <td>0.0</td>\n",
       "      <td>4.0</td>\n",
       "      <td>7.0</td>\n",
       "      <td>114 km NNW of Popondetta, Papua New Guinea</td>\n",
       "      <td>-7.8428</td>\n",
       "      <td>147.7656</td>\n",
       "    </tr>\n",
       "    <tr>\n",
       "      <th>1435</th>\n",
       "      <td>1436</td>\n",
       "      <td>Sapa</td>\n",
       "      <td>Papua New Guinea</td>\n",
       "      <td>Morobe</td>\n",
       "      <td>66.0</td>\n",
       "      <td>2020-07-16</td>\n",
       "      <td>1.594858e+09</td>\n",
       "      <td>75.0</td>\n",
       "      <td>55.0</td>\n",
       "      <td>7.3</td>\n",
       "      <td>0.0</td>\n",
       "      <td>4.0</td>\n",
       "      <td>7.0</td>\n",
       "      <td>114 km NNW of Popondetta, Papua New Guinea</td>\n",
       "      <td>-7.8428</td>\n",
       "      <td>147.7656</td>\n",
       "    </tr>\n",
       "  </tbody>\n",
       "</table>\n",
       "</div>"
      ],
      "text/plain": [
       "        id         city                   country  \\\n",
       "412    413  Bwehaltalam                   Vanuatu   \n",
       "413    414  Bwehaltalam                   Vanuatu   \n",
       "414    415  Bwehaltalam                   Vanuatu   \n",
       "415    416  Bwehaltalam                   Vanuatu   \n",
       "704    705         Unga  United States of America   \n",
       "705    706         Unga  United States of America   \n",
       "706    707         Unga  United States of America   \n",
       "707    708         Unga  United States of America   \n",
       "1060  1061       Rongma                     China   \n",
       "1061  1062       Rongma                     China   \n",
       "1062  1063       Rongma                     China   \n",
       "1063  1064       Rongma                     China   \n",
       "1116  1117         Unga  United States of America   \n",
       "1117  1118         Unga  United States of America   \n",
       "1118  1119         Unga  United States of America   \n",
       "1119  1120         Unga  United States of America   \n",
       "1120  1121   Ivanof Bay  United States of America   \n",
       "1121  1122   Ivanof Bay  United States of America   \n",
       "1122  1123   Ivanof Bay  United States of America   \n",
       "1123  1124   Ivanof Bay  United States of America   \n",
       "1328  1329      Falehau                     Tonga   \n",
       "1329  1330      Falehau                     Tonga   \n",
       "1330  1331      Falehau                     Tonga   \n",
       "1331  1332      Falehau                     Tonga   \n",
       "1392  1393      Jalebar                     India   \n",
       "1393  1394      Jalebar                     India   \n",
       "1394  1395      Jalebar                     India   \n",
       "1395  1396      Jalebar                     India   \n",
       "1432  1433         Sapa          Papua New Guinea   \n",
       "1433  1434         Sapa          Papua New Guinea   \n",
       "1434  1435         Sapa          Papua New Guinea   \n",
       "1435  1436         Sapa          Papua New Guinea   \n",
       "\n",
       "                           region  avgtemp        date    date_epoch  maxtemp  \\\n",
       "412                        Ambrym     77.0  2020-08-02  1.596326e+09     81.0   \n",
       "413                        Ambrym     77.0  2020-08-03  1.596413e+09     81.0   \n",
       "414                        Ambrym     75.0  2020-08-04  1.596499e+09     79.0   \n",
       "415                        Ambrym     75.0  2020-08-05  1.596586e+09     79.0   \n",
       "704                        Alaska     54.0  2020-07-25  1.595635e+09     57.0   \n",
       "705                        Alaska     54.0  2020-07-26  1.595722e+09     55.0   \n",
       "706                        Alaska     54.0  2020-07-27  1.595808e+09     55.0   \n",
       "707                        Alaska     57.0  2020-07-28  1.595894e+09     59.0   \n",
       "1060                       Xizang     64.0  2020-07-19  1.595117e+09     75.0   \n",
       "1061                       Xizang     57.0  2020-07-20  1.595203e+09     64.0   \n",
       "1062                       Xizang     59.0  2020-07-21  1.595290e+09     68.0   \n",
       "1063                       Xizang     61.0  2020-07-22  1.595376e+09     72.0   \n",
       "1116                       Alaska     54.0  2020-07-18  1.595030e+09     55.0   \n",
       "1117                       Alaska     55.0  2020-07-19  1.595117e+09     59.0   \n",
       "1118                       Alaska     57.0  2020-07-20  1.595203e+09     61.0   \n",
       "1119                       Alaska     55.0  2020-07-21  1.595290e+09     59.0   \n",
       "1120                       Alaska     54.0  2020-07-18  1.595030e+09     55.0   \n",
       "1121                       Alaska     55.0  2020-07-19  1.595117e+09     59.0   \n",
       "1122                       Alaska     57.0  2020-07-20  1.595203e+09     61.0   \n",
       "1123                       Alaska     55.0  2020-07-21  1.595290e+09     59.0   \n",
       "1328                         Vava     79.0  2020-07-15  1.594771e+09     79.0   \n",
       "1329                         Vava     79.0  2020-07-16  1.594858e+09     79.0   \n",
       "1330                         Vava     81.0  2020-07-17  1.594944e+09     81.0   \n",
       "1331                         Vava     81.0  2020-07-18  1.595030e+09     81.0   \n",
       "1392  Andaman and Nicobar Islands     82.0  2020-07-14  1.594685e+09     84.0   \n",
       "1393  Andaman and Nicobar Islands     84.0  2020-07-15  1.594771e+09     86.0   \n",
       "1394  Andaman and Nicobar Islands     82.0  2020-07-16  1.594858e+09     84.0   \n",
       "1395  Andaman and Nicobar Islands     81.0  2020-07-17  1.594944e+09     82.0   \n",
       "1432                       Morobe     70.0  2020-07-13  1.594598e+09     77.0   \n",
       "1433                       Morobe     64.0  2020-07-14  1.594685e+09     70.0   \n",
       "1434                       Morobe     68.0  2020-07-15  1.594771e+09     73.0   \n",
       "1435                       Morobe     66.0  2020-07-16  1.594858e+09     75.0   \n",
       "\n",
       "      mintemp  sunhour  totalsnow  uv_index  magnitude  \\\n",
       "412      68.0      5.7        0.0       6.0        6.4   \n",
       "413      68.0      5.7        0.0       6.0        6.4   \n",
       "414      63.0      7.2        0.0       6.0        6.4   \n",
       "415      64.0      7.2        0.0       6.0        6.4   \n",
       "704      50.0     10.1        0.0       3.0        6.1   \n",
       "705      50.0     11.0        0.0       3.0        6.1   \n",
       "706      45.0     10.9        0.0       4.0        6.1   \n",
       "707      50.0     14.5        0.0       4.0        6.1   \n",
       "1060     54.0     14.0        0.0       5.0        6.3   \n",
       "1061     48.0     14.0        0.0       4.0        6.3   \n",
       "1062     46.0     14.0        0.0       4.0        6.3   \n",
       "1063     50.0     12.2        0.0       5.0        6.3   \n",
       "1116     52.0     10.5        0.0       3.0        6.1   \n",
       "1117     48.0     11.1        0.0       3.0        6.1   \n",
       "1118     52.0     12.8        0.0       4.0        6.1   \n",
       "1119     52.0     11.0        0.0       4.0        6.1   \n",
       "1120     52.0     10.2        0.0       3.0        7.8   \n",
       "1121     48.0     11.1        0.0       3.0        7.8   \n",
       "1122     52.0     12.8        0.0       4.0        7.8   \n",
       "1123     52.0     11.1        0.0       4.0        7.8   \n",
       "1328     66.0      5.8        0.0       6.0        6.1   \n",
       "1329     66.0      7.2        0.0       6.0        6.1   \n",
       "1330     79.0      7.2        0.0       6.0        6.1   \n",
       "1331     81.0      5.8        0.0       6.0        6.1   \n",
       "1392     77.0      7.7        0.0       6.0        6.1   \n",
       "1393     81.0     10.3        0.0       6.0        6.1   \n",
       "1394     70.0      6.4        0.0       6.0        6.1   \n",
       "1395     73.0      6.4        0.0       6.0        6.1   \n",
       "1432     55.0     10.2        0.0       5.0        7.0   \n",
       "1433     54.0      5.9        0.0       4.0        7.0   \n",
       "1434     54.0      7.3        0.0       4.0        7.0   \n",
       "1435     55.0      7.3        0.0       4.0        7.0   \n",
       "\n",
       "                                           place       lat       long  \n",
       "412                 71 km E of Lakatoro, Vanuatu  -16.1118   168.0816  \n",
       "413                 71 km E of Lakatoro, Vanuatu  -16.1118   168.0816  \n",
       "414                 71 km E of Lakatoro, Vanuatu  -16.1118   168.0816  \n",
       "415                 71 km E of Lakatoro, Vanuatu  -16.1118   168.0816  \n",
       "704               66 km SW of Sand Point, Alaska   54.8674  -161.1436  \n",
       "705               66 km SW of Sand Point, Alaska   54.8674  -161.1436  \n",
       "706               66 km SW of Sand Point, Alaska   54.8674  -161.1436  \n",
       "707               66 km SW of Sand Point, Alaska   54.8674  -161.1436  \n",
       "1060                              western Xizang   33.1463    86.8666  \n",
       "1061                              western Xizang   33.1463    86.8666  \n",
       "1062                              western Xizang   33.1463    86.8666  \n",
       "1063                              western Xizang   33.1463    86.8666  \n",
       "1116            103 km ESE of Sand Point, Alaska   54.9322  -159.0423  \n",
       "1117            103 km ESE of Sand Point, Alaska   54.9322  -159.0423  \n",
       "1118            103 km ESE of Sand Point, Alaska   54.9322  -159.0423  \n",
       "1119            103 km ESE of Sand Point, Alaska   54.9322  -159.0423  \n",
       "1120            105 km SSE of Perryville, Alaska   55.0298  -158.5217  \n",
       "1121            105 km SSE of Perryville, Alaska   55.0298  -158.5217  \n",
       "1122            105 km SSE of Perryville, Alaska   55.0298  -158.5217  \n",
       "1123            105 km SSE of Perryville, Alaska   55.0298  -158.5217  \n",
       "1328                  141 km NE of Hihifo, Tonga  -15.2462  -172.6977  \n",
       "1329                  141 km NE of Hihifo, Tonga  -15.2462  -172.6977  \n",
       "1330                  141 km NE of Hihifo, Tonga  -15.2462  -172.6977  \n",
       "1331                  141 km NE of Hihifo, Tonga  -15.2462  -172.6977  \n",
       "1392               236 km E of Port Blair, India    11.984    94.8885  \n",
       "1393               236 km E of Port Blair, India    11.984    94.8885  \n",
       "1394               236 km E of Port Blair, India    11.984    94.8885  \n",
       "1395               236 km E of Port Blair, India    11.984    94.8885  \n",
       "1432  114 km NNW of Popondetta, Papua New Guinea   -7.8428   147.7656  \n",
       "1433  114 km NNW of Popondetta, Papua New Guinea   -7.8428   147.7656  \n",
       "1434  114 km NNW of Popondetta, Papua New Guinea   -7.8428   147.7656  \n",
       "1435  114 km NNW of Popondetta, Papua New Guinea   -7.8428   147.7656  "
      ]
     },
     "execution_count": 18,
     "metadata": {},
     "output_type": "execute_result"
    }
   ],
   "source": [
    "avg = weather_data_df[weather_data_df['magnitude'] > 6.0]\n",
    "avg"
   ]
  },
  {
   "cell_type": "markdown",
   "metadata": {},
   "source": [
    "#### Python call from db. For flask to web"
   ]
  },
  {
   "cell_type": "code",
   "execution_count": 9,
   "metadata": {
    "ExecuteTime": {
     "end_time": "2020-08-15T03:31:28.138887Z",
     "start_time": "2020-08-15T03:31:28.134898Z"
    }
   },
   "outputs": [],
   "source": [
    "# Python SQL toolkit and Object Relational Mapper\n",
    "import sqlalchemy\n",
    "# Go to existing database with automap_base\n",
    "from sqlalchemy.ext.automap import automap_base\n",
    "# Work through mapper to use python code\n",
    "from sqlalchemy.orm import Session\n",
    "# Inspect with python\n",
    "from sqlalchemy import create_engine, inspect\n"
   ]
  },
  {
   "cell_type": "code",
   "execution_count": null,
   "metadata": {
    "ExecuteTime": {
     "end_time": "2020-08-15T03:06:40.407559Z",
     "start_time": "2020-08-15T03:06:40.402537Z"
    }
   },
   "outputs": [],
   "source": [
    "# def weatherTimeSeries(query_call):\n",
    "#     Base = automap_base()\n",
    "#     Base.prepare(engine, reflect=True)\n",
    "#     # Check db table names\n",
    "#     # Base.classes.keys()\n",
    "#     weather_table = Base.classes.weatherSeries\n",
    "#     weather_container = session.query(weather_table).filter(weather_table.lat == query_call).all()\n",
    "#     weather_data = []\n",
    "#     for data in weather_container:\n",
    "#         container = {\n",
    "#             \"city\": data.city, \n",
    "#             \"country\": data.country, \n",
    "#             \"region\": data.region, \n",
    "#             \"avgtemp\": data.avgtemp, \n",
    "#             \"date\": data.date, \n",
    "#             \"date_epoch\": data.date_epoch, \n",
    "#             \"maxtemp\": data.maxtemp, \n",
    "#             \"mintemp\": data.mintemp, \n",
    "#             \"sunhour\": data.sunhour, \n",
    "#             \"totalsnow\": data.totalsnow, \n",
    "#             \"uv_index\": data.uv_index, \n",
    "#             \"magnitude\": data.magnitude, \n",
    "#             \"place\": data.place, \n",
    "#             \"lat\": data.lat, \n",
    "#             \"long\": data.long\n",
    "#         }\n",
    "#         weather_data.append(container)\n",
    "#     return weather_data"
   ]
  },
  {
   "cell_type": "code",
   "execution_count": null,
   "metadata": {},
   "outputs": [],
   "source": [
    "# latitude = '53.42'\n",
    "# query_from_db_to_web = weatherTimeSeries(latitude)\n",
    "# query_from_db_to_web"
   ]
  },
  {
   "cell_type": "code",
   "execution_count": 26,
   "metadata": {
    "ExecuteTime": {
     "end_time": "2020-08-15T03:39:02.587260Z",
     "start_time": "2020-08-15T03:39:02.580274Z"
    }
   },
   "outputs": [],
   "source": [
    "def aboveSixQuake():\n",
    "    Base = automap_base()\n",
    "    Base.prepare(engine, reflect=True)\n",
    "    # Check db table names\n",
    "    # Base.classes.keys()\n",
    "    weather_table = Base.classes.weatherSeries\n",
    "    weather_container = session.query(weather_table).filter(weather_table.magnitude > 6).all()\n",
    "    weather_facts = []\n",
    "    magnitude_list = []\n",
    "    count = 0\n",
    "    for data in weather_container:\n",
    "        count += 1\n",
    "        \n",
    "        # make a list of magnitudes recorded greater than 6 and get avg temp\n",
    "        magnitude_list.append(data.avgtemp)\n",
    "        magnitude = data.magnitude\n",
    "        magnitude_keep = 6\n",
    "        # Get highest recorded earthquake\n",
    "        if data.magnitude > magnitude_keep:\n",
    "            magnitude_keep = data.magnitude\n",
    "            location = data.country\n",
    "            city = data.city\n",
    "            temp_low = data.mintemp\n",
    "            temp_high = data.maxtemp\n",
    "            avg_temp_at_time = data.avgtemp\n",
    "        else:\n",
    "            continue\n",
    "            \n",
    "    # Get avgtemp from list        \n",
    "    def Average(lst): \n",
    "        return sum(lst) / len(lst) \n",
    "    quake_avg = Average(magnitude_list)\n",
    "    \n",
    "    container = {\n",
    "        \"count\": count, \n",
    "        \"avgtemp\": quake_avg,\n",
    "        \"highest_magnitude\": magnitude_keep, \n",
    "        \"highest_city\": city,\n",
    "        \"highest_location\": location,\n",
    "        \"temp_low\": temp_low,\n",
    "        \"temp_high\": temp_high,\n",
    "        \"avg_temp_at_time\": avg_temp_at_time,\n",
    "         \n",
    "        \n",
    "    }\n",
    "    weather_facts.append(container)\n",
    "    return weather_facts"
   ]
  },
  {
   "cell_type": "code",
   "execution_count": 27,
   "metadata": {
    "ExecuteTime": {
     "end_time": "2020-08-15T03:39:02.767677Z",
     "start_time": "2020-08-15T03:39:02.755680Z"
    }
   },
   "outputs": [
    {
     "data": {
      "text/plain": [
       "[{'count': 32,\n",
       "  'avgtemp': 66.34375,\n",
       "  'highest_magnitude': 7.0,\n",
       "  'highest_city': 'Sapa',\n",
       "  'highest_location': 'Papua New Guinea',\n",
       "  'temp_low': 55.0,\n",
       "  'temp_high': 75.0,\n",
       "  'avg_temp_at_time': 66.0}]"
      ]
     },
     "execution_count": 27,
     "metadata": {},
     "output_type": "execute_result"
    }
   ],
   "source": [
    "query_from_db_to_web = aboveSixQuake()\n",
    "query_from_db_to_web"
   ]
  },
  {
   "cell_type": "markdown",
   "metadata": {},
   "source": [
    "------"
   ]
  },
  {
   "cell_type": "code",
   "execution_count": null,
   "metadata": {},
   "outputs": [],
   "source": [
    "# latlong_container = session.query(latlong_table).filter(latlong_table.lat == '').all()"
   ]
  },
  {
   "cell_type": "code",
   "execution_count": null,
   "metadata": {
    "ExecuteTime": {
     "end_time": "2020-08-13T03:18:50.959907Z",
     "start_time": "2020-08-13T03:18:50.956886Z"
    }
   },
   "outputs": [],
   "source": [
    "# for data in latlong_table:\n",
    "#     print(f\"Date: {data.lat}, Temp: {data.long}\")"
   ]
  },
  {
   "cell_type": "code",
   "execution_count": null,
   "metadata": {
    "ExecuteTime": {
     "end_time": "2020-08-13T03:17:44.639252Z",
     "start_time": "2020-08-13T03:17:44.635284Z"
    }
   },
   "outputs": [],
   "source": [
    "# Join two tables in the db\n",
    "# def join_example():\n",
    "#     records = session.query(WeatherSeries).\\\n",
    "#         join(LatLong, LatLong.id == WeatherSeries.id).all()\n",
    "# #     print(records)\n",
    "#     for record in records:\n",
    "#         recordObject = {\n",
    "#             'city': record.city,\n",
    "#             'country': record.country,\n",
    "#             'date': record.date,\n",
    "#             'maxtemp': record.maxtemp,\n",
    "#             'latlong_rel': record.latlong_rel\n",
    "#         }\n",
    "#         print(recordObject)\n",
    "# join_example()        "
   ]
  },
  {
   "cell_type": "code",
   "execution_count": null,
   "metadata": {
    "ExecuteTime": {
     "end_time": "2020-08-13T03:10:23.766957Z",
     "start_time": "2020-08-13T03:10:23.751969Z"
    }
   },
   "outputs": [],
   "source": [
    "# Create DataFrame from sql table Weather\n",
    "# weather_data_df = pd.read_sql(\"SELECT * FROM LatLong\", conn)\n",
    "# weather_data_df"
   ]
  },
  {
   "cell_type": "code",
   "execution_count": null,
   "metadata": {},
   "outputs": [],
   "source": [
    "### \n",
    "## KEEP !!\n",
    "## DO NOT DELETE ALL THIS\n",
    "###\n",
    "\n",
    "# Create a Specific Instance of the \"weather_data\" and \"earthquake_data\" classes\n",
    "# ----------------------------------\n",
    "# Data needs to pass through this. A for loop while need to be created to consistantly send multiple files\n",
    "# weather_data = WeatherSeries(\n",
    "#     lat = '',\n",
    "#     lon = '',\n",
    "#     date = '',\n",
    "#     city = '',\n",
    "#     country = '',\n",
    "#     region = '',\n",
    "#     avgtemp = '',\n",
    "#     date_epoch = '',\n",
    "#     maxtemp = '',\n",
    "#     mintemp = '',\n",
    "#     sunhour = '',\n",
    "#     totalsnow = '',\n",
    "#     uv_index = '',\n",
    "#     )\n",
    "\n",
    "# earthquake_data = Earthquake(\n",
    "#     lat = '',\n",
    "#     lon = '',\n",
    "#     date = '',\n",
    "#     mag = '',\n",
    "#     location = ''\n",
    "#     )"
   ]
  },
  {
   "cell_type": "markdown",
   "metadata": {},
   "source": [
    "-------------"
   ]
  },
  {
   "cell_type": "markdown",
   "metadata": {},
   "source": [
    "-----------"
   ]
  },
  {
   "cell_type": "code",
   "execution_count": null,
   "metadata": {
    "ExecuteTime": {
     "end_time": "2020-08-12T10:27:56.043030Z",
     "start_time": "2020-08-12T10:27:56.040038Z"
    }
   },
   "outputs": [],
   "source": [
    "# def checkEqual3(lst):\n",
    "#     return lst[1:] == lst[:-1]\n",
    "\n",
    "# def checkRowValueDups(data):\n",
    "#     dictOfKeys = data.keys()\n",
    "#     for column in data:\n",
    "#         column_values = data[column].to_list()\n",
    "#         result = checkEqual3(column_values)\n",
    "# #         print('passed.')\n",
    "#     if result == True:\n",
    "#         all_logs_df = all_logs.iloc[0:1, 0:]\n",
    "#     else:\n",
    "#         print(\"Couldnt complete cleaning. Different value found in column where only duplicates live. Check function checkRowValueDups() for information\")\n",
    "#     return all_logs_df\n",
    "\n",
    "# all_logs_df = checkRowValueDups(all_logs)"
   ]
  },
  {
   "cell_type": "code",
   "execution_count": null,
   "metadata": {
    "ExecuteTime": {
     "end_time": "2020-08-12T10:27:58.503194Z",
     "start_time": "2020-08-12T10:27:58.500244Z"
    }
   },
   "outputs": [],
   "source": [
    "# all_logs_df['2020-08-03'][0]"
   ]
  },
  {
   "cell_type": "code",
   "execution_count": null,
   "metadata": {},
   "outputs": [],
   "source": [
    "# stuff = (list(all_logs.itertuples(index=False, name=None)))"
   ]
  }
 ],
 "metadata": {
  "kernelspec": {
   "display_name": "Python 3",
   "language": "python",
   "name": "python3"
  },
  "language_info": {
   "codemirror_mode": {
    "name": "ipython",
    "version": 3
   },
   "file_extension": ".py",
   "mimetype": "text/x-python",
   "name": "python",
   "nbconvert_exporter": "python",
   "pygments_lexer": "ipython3",
   "version": "3.7.6"
  }
 },
 "nbformat": 4,
 "nbformat_minor": 4
}
