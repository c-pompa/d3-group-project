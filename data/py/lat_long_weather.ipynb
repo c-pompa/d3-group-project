{
 "cells": [
  {
   "cell_type": "code",
   "execution_count": null,
   "metadata": {
    "ExecuteTime": {
     "end_time": "2020-08-12T09:34:02.555178Z",
     "start_time": "2020-08-12T09:34:02.551189Z"
    }
   },
   "outputs": [],
   "source": [
    "# Dependencies and Setup\n",
    "import pandas as pd\n",
    "import numpy as np\n",
    "import time\n",
    "from pprint import pprint\n",
    "import requests\n",
    "from datetime import date, timedelta, datetime\n",
    "import json\n",
    "# Import API key\n",
    "from config import weather_api_key"
   ]
  },
  {
   "cell_type": "markdown",
   "metadata": {
    "ExecuteTime": {
     "end_time": "2020-08-11T23:36:29.183999Z",
     "start_time": "2020-08-11T23:36:29.180008Z"
    },
    "heading_collapsed": true
   },
   "source": [
    "### Get Long Lat list of tuples to pass into Weather API"
   ]
  },
  {
   "cell_type": "code",
   "execution_count": null,
   "metadata": {
    "ExecuteTime": {
     "end_time": "2020-08-12T09:32:25.854718Z",
     "start_time": "2020-08-12T09:32:25.851724Z"
    },
    "hidden": true
   },
   "outputs": [],
   "source": [
    "geojson_data = 'https://earthquake.usgs.gov/earthquakes/feed/v1.0/summary/4.5_month.geojson'"
   ]
  },
  {
   "cell_type": "code",
   "execution_count": null,
   "metadata": {
    "ExecuteTime": {
     "end_time": "2020-08-12T09:32:31.833747Z",
     "start_time": "2020-08-12T09:32:31.660494Z"
    },
    "hidden": true
   },
   "outputs": [],
   "source": [
    "response = requests.get(geojson_data).json()\n",
    "features = response[\"features\"]\n",
    "test = features[0]['properties']\n",
    "coords_list = []\n",
    "for data in features:\n",
    "    time = data['properties']['time']\n",
    "    long_coords = data[\"geometry\"][\"coordinates\"][0]\n",
    "    lat_coords = data[\"geometry\"][\"coordinates\"][1]\n",
    "    coords = {\n",
    "            'lat': lat_coords,\n",
    "            'lng': long_coords,\n",
    "            'time': time }\n",
    "    \n",
    "    coords_list.append(coords)\n",
    "print(coords_list)\n",
    "# coords_list"
   ]
  },
  {
   "cell_type": "code",
   "execution_count": null,
   "metadata": {
    "ExecuteTime": {
     "end_time": "2020-08-12T03:51:16.919035Z",
     "start_time": "2020-08-12T03:51:16.911054Z"
    },
    "hidden": true
   },
   "outputs": [],
   "source": [
    "len(coords_list)"
   ]
  },
  {
   "cell_type": "markdown",
   "metadata": {
    "hidden": true
   },
   "source": [
    "-----"
   ]
  },
  {
   "cell_type": "markdown",
   "metadata": {
    "heading_collapsed": true
   },
   "source": [
    "### Use Coordinates to get historical weather data.\n",
    "Coordinates represent earthquake lat long location"
   ]
  },
  {
   "cell_type": "code",
   "execution_count": null,
   "metadata": {
    "ExecuteTime": {
     "end_time": "2020-08-12T09:34:04.838033Z",
     "start_time": "2020-08-12T09:34:04.824071Z"
    },
    "hidden": true
   },
   "outputs": [],
   "source": [
    "from tqdm import tqdm\n",
    "from tqdm import tqdm_notebook"
   ]
  },
  {
   "cell_type": "code",
   "execution_count": null,
   "metadata": {
    "ExecuteTime": {
     "end_time": "2020-08-12T09:37:56.074967Z",
     "start_time": "2020-08-12T09:34:06.160305Z"
    },
    "hidden": true
   },
   "outputs": [],
   "source": [
    "pbar = tqdm(total=len(coords_list))\n",
    "\n",
    "tuple_of_data = []\n",
    "add_tuple = {}\n",
    "counter = 0\n",
    "\n",
    "def checkForTwo(number):\n",
    "    if (int(number)) <= 1:\n",
    "        number = '1'\n",
    "    if (int(number)) < 10:\n",
    "        number = \"0\" + str(number)\n",
    "    else:\n",
    "#         print(number)\n",
    "        number = str(number)\n",
    "        pass\n",
    "    return number\n",
    "\n",
    "\n",
    "\n",
    "for coordinates in coords_list:\n",
    "    # Lat / long\n",
    "    coords = {coordinates['lat'],coordinates['lng']}\n",
    "    ######################\n",
    "    ## Earthquake time conversion\n",
    "    ######################\n",
    "    earthquake_time = coordinates['time']\n",
    "    dt3 = datetime.fromtimestamp(earthquake_time / 1000)\n",
    "    # Time range end is the day of the earthquake\n",
    "    time_range_end = str(dt3.year) + \"-\" + checkForTwo(dt3.month) + \"-\" + checkForTwo(dt3.day)\n",
    "    \n",
    "    # Time range begin is 3 days before the earthquake\n",
    "    four_day_series = dt3 - timedelta(3)\n",
    "    four_day_day = dt3.day\n",
    "    time_range_begin = str(dt3.year) + \"-\" + checkForTwo(dt3.month) + \"-\" + checkForTwo(four_day_day)\n",
    "#     print(time_range_begin)\n",
    "    \n",
    "    base_url = 'http://api.weatherstack.com/historical'\n",
    "    params_weather = {'access_key': weather_api_key, \n",
    "                      'query': coords,\n",
    "                      'historical_date_start': time_range_begin,\n",
    "                        'historical_date_end': time_range_end\n",
    "                 }\n",
    "    response = requests.get(base_url, params=params_weather).json()\n",
    "    try: \n",
    "        \n",
    "        # extract results\n",
    "        location = response.get('location')\n",
    "#         print(location)\n",
    "        # City, Country, Region\n",
    "        city = location[\"name\"]\n",
    "        country = location[\"country\"]\n",
    "        region = location[\"region\"]\n",
    "\n",
    "        # Historical Only\n",
    "        historical = response['historical']\n",
    "#         print(region)\n",
    "        for hist in historical:\n",
    "            add_tuple = {\n",
    "                'city': location.get('name'),\n",
    "                'country': location[\"country\"],\n",
    "                'region': location[\"region\"],\n",
    "                'avgtemp': historical[hist]['avgtemp'],\n",
    "                'date': historical[hist]['date'],\n",
    "                'date_epoch': historical[hist]['date_epoch'],\n",
    "                'maxtemp': historical[hist]['maxtemp'],\n",
    "                'mintemp': historical[hist]['mintemp'],\n",
    "                'sunhour': historical[hist]['sunhour'],\n",
    "                'totalsnow': historical[hist]['totalsnow'],\n",
    "                'uv_index': historical[hist]['uv_index'],\n",
    "                'long': coordinates['lng'],\n",
    "                'lat': coordinates['lat']\n",
    "            }\n",
    "            pbar.update(1)\n",
    "        tuple_of_data.append(add_tuple)\n",
    "\n",
    "    except TypeError as e:\n",
    "        pbar.update(1)\n",
    "#         print(e)\n",
    "        continue\n",
    "    pbar.update(1)\n",
    "    counter += 1  \n",
    "#     print(counter)\n",
    "pbar.close() \n",
    "#     break\n",
    "# tuple_of_data"
   ]
  },
  {
   "cell_type": "code",
   "execution_count": null,
   "metadata": {
    "ExecuteTime": {
     "end_time": "2020-08-12T10:20:20.370250Z",
     "start_time": "2020-08-12T10:20:20.366260Z"
    },
    "hidden": true
   },
   "outputs": [],
   "source": [
    "len(tuple_of_data)"
   ]
  },
  {
   "cell_type": "markdown",
   "metadata": {
    "heading_collapsed": true
   },
   "source": [
    "## Saving to JSON"
   ]
  },
  {
   "cell_type": "code",
   "execution_count": null,
   "metadata": {
    "ExecuteTime": {
     "end_time": "2020-08-12T10:17:28.710837Z",
     "start_time": "2020-08-12T10:17:28.707845Z"
    },
    "hidden": true
   },
   "outputs": [],
   "source": [
    "from datetime import datetime\n",
    "now = datetime.now()"
   ]
  },
  {
   "cell_type": "code",
   "execution_count": null,
   "metadata": {
    "ExecuteTime": {
     "end_time": "2020-08-12T10:17:29.178403Z",
     "start_time": "2020-08-12T10:17:29.164454Z"
    },
    "hidden": true
   },
   "outputs": [],
   "source": [
    "# Get time\n",
    "timedate = now.strftime(\"%Y-%m-%d_%H_%M_%S\")\n",
    "\n",
    "# SAVE: Player_position\n",
    "with open(f'../{timedate}_4_day_weather_for_earthquakes.json', 'w') as fp:\n",
    "    json.dump(tuple_of_data, fp)\n",
    "    "
   ]
  },
  {
   "cell_type": "code",
   "execution_count": null,
   "metadata": {
    "ExecuteTime": {
     "end_time": "2020-08-12T04:30:39.823527Z",
     "start_time": "2020-08-12T04:30:39.820507Z"
    },
    "hidden": true
   },
   "outputs": [],
   "source": [
    "# del tuple_of_data"
   ]
  },
  {
   "cell_type": "markdown",
   "metadata": {},
   "source": [
    "## Opening JSON .. Do not have to run the api again."
   ]
  },
  {
   "cell_type": "code",
   "execution_count": null,
   "metadata": {
    "ExecuteTime": {
     "end_time": "2020-08-12T10:17:58.426182Z",
     "start_time": "2020-08-12T10:17:58.419173Z"
    }
   },
   "outputs": [],
   "source": [
    "# Open raw json to parse\n",
    "with open('../2020-08-12_03_17_28_4_day_weather_for_earthquakes.json', 'r') as f:\n",
    "    weather_earthquake_data = json.load(f)"
   ]
  },
  {
   "cell_type": "code",
   "execution_count": null,
   "metadata": {
    "ExecuteTime": {
     "end_time": "2020-08-12T10:55:27.994095Z",
     "start_time": "2020-08-12T10:55:27.973151Z"
    }
   },
   "outputs": [],
   "source": [
    "# Dataframe to see raw(cleaned) data\n",
    "all_logs = pd.DataFrame(weather_earthquake_data)\n",
    "all_logs"
   ]
  },
  {
   "cell_type": "code",
   "execution_count": null,
   "metadata": {
    "ExecuteTime": {
     "end_time": "2020-08-12T11:00:12.711112Z",
     "start_time": "2020-08-12T11:00:12.704102Z"
    }
   },
   "outputs": [],
   "source": [
    "all_logs[all_logs['city'] == 'NaN']"
   ]
  },
  {
   "cell_type": "code",
   "execution_count": null,
   "metadata": {},
   "outputs": [],
   "source": []
  },
  {
   "cell_type": "code",
   "execution_count": null,
   "metadata": {},
   "outputs": [],
   "source": []
  },
  {
   "cell_type": "code",
   "execution_count": null,
   "metadata": {
    "ExecuteTime": {
     "end_time": "2020-08-12T10:30:22.214011Z",
     "start_time": "2020-08-12T10:30:22.211020Z"
    },
    "scrolled": true
   },
   "outputs": [],
   "source": []
  },
  {
   "cell_type": "markdown",
   "metadata": {},
   "source": [
    "## Upload to PostgreSQL"
   ]
  },
  {
   "cell_type": "code",
   "execution_count": null,
   "metadata": {
    "ExecuteTime": {
     "end_time": "2020-08-12T11:08:32.826926Z",
     "start_time": "2020-08-12T11:08:32.822936Z"
    }
   },
   "outputs": [],
   "source": [
    "# Dependencies\n",
    "# ----------------------------------\n",
    "# Imports the method used for connecting to DBs\n",
    "from sqlalchemy import create_engine\n",
    "# Imports the methods needed to abstract classes into tables\n",
    "from sqlalchemy.ext.declarative import declarative_base\n",
    "# Allow us to declare column types\n",
    "from sqlalchemy import Column, Integer, String, Float \n",
    "import pandas as pd"
   ]
  },
  {
   "cell_type": "code",
   "execution_count": null,
   "metadata": {
    "ExecuteTime": {
     "end_time": "2020-08-12T11:08:33.048711Z",
     "start_time": "2020-08-12T11:08:33.043751Z"
    }
   },
   "outputs": [],
   "source": [
    "# Create Weather and Earthquake Classes\n",
    "# ----------------------------------\n",
    "# Sets an object to utilize the default declarative base in SQL Alchemy\n",
    "Base = declarative_base()\n",
    "\n",
    "# Creates Classes which will serve as the anchor points for our Tables\n",
    "class WeatherSeries(Base):\n",
    "    __tablename__ = 'weatherSeries'\n",
    "    id = Column(Integer, primary_key=True)\n",
    "    lat = Column(String(15))\n",
    "    long = Column(String(15))\n",
    "#     date = Column(Integer)\n",
    "#     city = Column(String(50))\n",
    "#     country = Column(String(200))\n",
    "#     region = Column(String(80))\n",
    "#     avgtemp = Column(Integer)\n",
    "#     date_epoch = Column(Integer)\n",
    "#     maxtemp = Column(Integer)\n",
    "#     mintemp = Column(Integer)\n",
    "#     sunhour = Column(Float)\n",
    "#     totalsnow = Column(Integer)\n",
    "#     uv_index = Column(Integer)\n",
    "\n",
    "# class Earthquake(Base):\n",
    "#     __tablename__ = 'earthquake'\n",
    "#     id = Column(Integer, primary_key=True)\n",
    "#     lat = Column(Integer)\n",
    "#     lon = Column(Integer)\n",
    "#     date = Column(Integer)\n",
    "#     mag = Column(Integer)\n",
    "#     location = Column(String(255))"
   ]
  },
  {
   "cell_type": "code",
   "execution_count": null,
   "metadata": {
    "ExecuteTime": {
     "end_time": "2020-08-12T11:08:33.416709Z",
     "start_time": "2020-08-12T11:08:33.412692Z"
    }
   },
   "outputs": [],
   "source": [
    "### \n",
    "## KEEP !!\n",
    "## DO NOT DELETE ALL THIS\n",
    "###\n",
    "\n",
    "# Create a Specific Instance of the \"weather_data\" and \"earthquake_data\" classes\n",
    "# ----------------------------------\n",
    "# Data needs to pass through this. A for loop while need to be created to consistantly send multiple files\n",
    "# weather_data = WeatherSeries(\n",
    "#     lat = '',\n",
    "#     lon = '',\n",
    "#     date = '',\n",
    "#     city = '',\n",
    "#     country = '',\n",
    "#     region = '',\n",
    "#     avgtemp = '',\n",
    "#     date_epoch = '',\n",
    "#     maxtemp = '',\n",
    "#     mintemp = '',\n",
    "#     sunhour = '',\n",
    "#     totalsnow = '',\n",
    "#     uv_index = '',\n",
    "#     )\n",
    "\n",
    "# earthquake_data = Earthquake(\n",
    "#     lat = '',\n",
    "#     lon = '',\n",
    "#     date = '',\n",
    "#     mag = '',\n",
    "#     location = ''\n",
    "#     )"
   ]
  },
  {
   "cell_type": "code",
   "execution_count": null,
   "metadata": {
    "ExecuteTime": {
     "end_time": "2020-08-12T11:08:36.899437Z",
     "start_time": "2020-08-12T11:08:36.891458Z"
    }
   },
   "outputs": [],
   "source": [
    "for k,v in all_logs.items():\n",
    "#     print(k,v)\n",
    "    weather_data = WeatherSeries(\n",
    "            lat = log[\"lat\"],\n",
    "            long = log[\"long\"],\n",
    "#             date = 'log[\"date\"]',\n",
    "#             city = 'log[\"city\"]',\n",
    "#             country = 'log[\"country\"]',\n",
    "#             region = 'log[\"region\"]',\n",
    "#             avgtemp = 'log[\"avgtemp\"]',\n",
    "#             date_epoch = 'log[\"date_epoch\"]',\n",
    "#             maxtemp = 'log[\"maxtemp\"]',\n",
    "#             mintemp = 'log[\"mintemp\"]',\n",
    "#             sunhour = 'log[\"sunhour\"]',\n",
    "#             totalsnow = 'log[\"totalsnow\"]',\n",
    "#             uv_index = 'log[\"uv_index\"]',\n",
    "            )\n",
    "\n",
    "    \n",
    "#     test = log['city']\n",
    "#     print(test)"
   ]
  },
  {
   "cell_type": "code",
   "execution_count": null,
   "metadata": {},
   "outputs": [],
   "source": []
  },
  {
   "cell_type": "code",
   "execution_count": null,
   "metadata": {
    "ExecuteTime": {
     "end_time": "2020-08-12T11:06:29.980597Z",
     "start_time": "2020-08-12T11:06:29.966634Z"
    }
   },
   "outputs": [],
   "source": [
    "# Create Database Connection\n",
    "# ----------------------------------\n",
    "# Creates a connection to our DB\n",
    "# Engine opens the door. Conn is the walk through sign\n",
    "engine = create_engine(\"sqlite:///earthquake_weather.sqlite\")\n",
    "conn = engine.connect()\n",
    "\n",
    "# Create a \"Metadata\" Layer That Abstracts our SQL Database\n",
    "# ----------------------------------\n",
    "# Create (if not already in existence) the tables associated with our classes.\n",
    "Base.metadata.create_all(engine)"
   ]
  },
  {
   "cell_type": "code",
   "execution_count": null,
   "metadata": {
    "ExecuteTime": {
     "end_time": "2020-08-12T11:06:30.314822Z",
     "start_time": "2020-08-12T11:06:30.303851Z"
    }
   },
   "outputs": [],
   "source": [
    "# Use this to clear out the db\n",
    "# ----------------------------------\n",
    "# Base.metadata.drop_all(engine)"
   ]
  },
  {
   "cell_type": "code",
   "execution_count": null,
   "metadata": {
    "ExecuteTime": {
     "end_time": "2020-08-12T11:06:31.392795Z",
     "start_time": "2020-08-12T11:06:31.389829Z"
    }
   },
   "outputs": [],
   "source": [
    "# Create a Session Object to Connect to DB\n",
    "# ----------------------------------\n",
    "# Session is a temporary binding to our DB\n",
    "# Session is the messanger-- allows to walk through the door\n",
    "from sqlalchemy.orm import Session\n",
    "session = Session(bind=engine)"
   ]
  },
  {
   "cell_type": "code",
   "execution_count": null,
   "metadata": {
    "ExecuteTime": {
     "end_time": "2020-08-12T11:06:31.719649Z",
     "start_time": "2020-08-12T11:06:31.707679Z"
    }
   },
   "outputs": [],
   "source": [
    "# Add Records to the Appropriate DB\n",
    "# ----------------------------------\n",
    "# Use the SQL ALchemy methods to run simple \"INSERT\" statements using the classes and objects  \n",
    "session.add(weather_data)\n",
    "# session.add(earthquake_data)\n",
    "session.commit()"
   ]
  },
  {
   "cell_type": "code",
   "execution_count": null,
   "metadata": {},
   "outputs": [],
   "source": []
  },
  {
   "cell_type": "markdown",
   "metadata": {},
   "source": [
    "### Test DB"
   ]
  },
  {
   "cell_type": "code",
   "execution_count": null,
   "metadata": {
    "ExecuteTime": {
     "end_time": "2020-08-12T11:05:33.636880Z",
     "start_time": "2020-08-12T11:05:33.632859Z"
    }
   },
   "outputs": [],
   "source": [
    "weather_list = session.query(WeatherSeries)\n",
    "for weather in weather_list:\n",
    "    print(weather.id)"
   ]
  },
  {
   "cell_type": "code",
   "execution_count": null,
   "metadata": {
    "ExecuteTime": {
     "end_time": "2020-08-12T11:06:01.088074Z",
     "start_time": "2020-08-12T11:06:01.081097Z"
    }
   },
   "outputs": [],
   "source": [
    "# Create DataFrame from sql table Weather\n",
    "weather_data_df = pd.read_sql(\"SELECT * FROM WeatherSeries\", conn)\n",
    "weather_data_df"
   ]
  },
  {
   "cell_type": "code",
   "execution_count": null,
   "metadata": {},
   "outputs": [],
   "source": []
  },
  {
   "cell_type": "code",
   "execution_count": null,
   "metadata": {},
   "outputs": [],
   "source": []
  },
  {
   "cell_type": "code",
   "execution_count": null,
   "metadata": {},
   "outputs": [],
   "source": []
  },
  {
   "cell_type": "code",
   "execution_count": null,
   "metadata": {},
   "outputs": [],
   "source": []
  },
  {
   "cell_type": "code",
   "execution_count": null,
   "metadata": {},
   "outputs": [],
   "source": []
  },
  {
   "cell_type": "markdown",
   "metadata": {},
   "source": [
    "-------------"
   ]
  },
  {
   "cell_type": "markdown",
   "metadata": {},
   "source": [
    "-----------"
   ]
  },
  {
   "cell_type": "code",
   "execution_count": null,
   "metadata": {
    "ExecuteTime": {
     "end_time": "2020-08-12T10:27:56.043030Z",
     "start_time": "2020-08-12T10:27:56.040038Z"
    }
   },
   "outputs": [],
   "source": [
    "# def checkEqual3(lst):\n",
    "#     return lst[1:] == lst[:-1]\n",
    "\n",
    "# def checkRowValueDups(data):\n",
    "#     dictOfKeys = data.keys()\n",
    "#     for column in data:\n",
    "#         column_values = data[column].to_list()\n",
    "#         result = checkEqual3(column_values)\n",
    "# #         print('passed.')\n",
    "#     if result == True:\n",
    "#         all_logs_df = all_logs.iloc[0:1, 0:]\n",
    "#     else:\n",
    "#         print(\"Couldnt complete cleaning. Different value found in column where only duplicates live. Check function checkRowValueDups() for information\")\n",
    "#     return all_logs_df\n",
    "\n",
    "# all_logs_df = checkRowValueDups(all_logs)"
   ]
  },
  {
   "cell_type": "code",
   "execution_count": null,
   "metadata": {
    "ExecuteTime": {
     "end_time": "2020-08-12T10:27:58.503194Z",
     "start_time": "2020-08-12T10:27:58.500244Z"
    }
   },
   "outputs": [],
   "source": [
    "# all_logs_df['2020-08-03'][0]"
   ]
  },
  {
   "cell_type": "code",
   "execution_count": null,
   "metadata": {},
   "outputs": [],
   "source": [
    "# stuff = (list(all_logs.itertuples(index=False, name=None)))"
   ]
  }
 ],
 "metadata": {
  "kernelspec": {
   "display_name": "Python 3.7.7 64-bit ('usc_bootcamp': conda)",
   "language": "python",
   "name": "python37764bituscbootcampconda3361b9ec87e5404d80e03b8fe2fcfaaf"
  },
  "language_info": {
   "codemirror_mode": {
    "name": "ipython",
    "version": 3
   },
   "file_extension": ".py",
   "mimetype": "text/x-python",
   "name": "python",
   "nbconvert_exporter": "python",
   "pygments_lexer": "ipython3",
   "version": "3.7.1"
  }
 },
 "nbformat": 4,
 "nbformat_minor": 4
}
