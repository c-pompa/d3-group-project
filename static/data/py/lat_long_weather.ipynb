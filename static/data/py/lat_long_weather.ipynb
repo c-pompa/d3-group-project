{
 "cells": [
  {
   "cell_type": "code",
   "execution_count": 1,
   "metadata": {
    "ExecuteTime": {
     "end_time": "2020-08-14T03:06:10.620133Z",
     "start_time": "2020-08-14T03:06:10.199234Z"
    }
   },
   "outputs": [],
   "source": [
    "# Dependencies and Setup\n",
    "import pandas as pd\n",
    "import numpy as np\n",
    "import time\n",
    "from pprint import pprint\n",
    "import requests\n",
    "from datetime import date, timedelta, datetime\n",
    "import json\n",
    "# Import API key\n",
    "from config import weather_api_key\n",
    "from pprint import pprint"
   ]
  },
  {
   "cell_type": "markdown",
   "metadata": {
    "ExecuteTime": {
     "end_time": "2020-08-11T23:36:29.183999Z",
     "start_time": "2020-08-11T23:36:29.180008Z"
    },
    "heading_collapsed": true
   },
   "source": [
    "### Get Long Lat list of tuples to pass into Weather API"
   ]
  },
  {
   "cell_type": "code",
   "execution_count": null,
   "metadata": {
    "ExecuteTime": {
     "end_time": "2020-08-13T19:40:51.477502Z",
     "start_time": "2020-08-13T19:40:51.473550Z"
    },
    "hidden": true
   },
   "outputs": [],
   "source": [
    "geojson_data = 'https://earthquake.usgs.gov/earthquakes/feed/v1.0/summary/4.5_month.geojson'"
   ]
  },
  {
   "cell_type": "code",
   "execution_count": null,
   "metadata": {
    "ExecuteTime": {
     "end_time": "2020-08-13T19:40:52.446931Z",
     "start_time": "2020-08-13T19:40:51.685188Z"
    },
    "hidden": true
   },
   "outputs": [],
   "source": [
    "response = requests.get(geojson_data).json()\n",
    "features = response[\"features\"]\n",
    "test = features[0]['properties']\n",
    "coords_list = []\n",
    "for data in features:\n",
    "    time = data['properties']['time']\n",
    "    magnitude = data['properties']['mag']\n",
    "    place = data['properties']['place']\n",
    "    \n",
    "    long_coords = data[\"geometry\"][\"coordinates\"][0]\n",
    "    lat_coords = data[\"geometry\"][\"coordinates\"][1]\n",
    "    \n",
    "    coords = {\n",
    "            'latlng': f\"{lat_coords}, {long_coords}\",\n",
    "            'lat': lat_coords,\n",
    "            'long': long_coords,\n",
    "            'time': time,\n",
    "            'magnitude': magnitude,\n",
    "            'place': place}\n",
    "    \n",
    "    coords_list.append(coords)\n",
    "pprint(coords_list)\n",
    "# coords_list"
   ]
  },
  {
   "cell_type": "code",
   "execution_count": null,
   "metadata": {
    "ExecuteTime": {
     "end_time": "2020-08-13T19:40:52.454911Z",
     "start_time": "2020-08-13T19:40:52.447928Z"
    },
    "hidden": true
   },
   "outputs": [],
   "source": [
    "len(coords_list)"
   ]
  },
  {
   "cell_type": "markdown",
   "metadata": {
    "hidden": true
   },
   "source": [
    "-----"
   ]
  },
  {
   "cell_type": "markdown",
   "metadata": {
    "heading_collapsed": true
   },
   "source": [
    "### Use Coordinates to get historical weather data.\n",
    "Coordinates represent earthquake lat long location"
   ]
  },
  {
   "cell_type": "markdown",
   "metadata": {
    "hidden": true
   },
   "source": [
    "This section creates the table WeatherSeries in the database. WeatherSeries has 4 day weather forecast and matching earthquake data."
   ]
  },
  {
   "cell_type": "code",
   "execution_count": null,
   "metadata": {
    "ExecuteTime": {
     "end_time": "2020-08-13T19:40:56.698884Z",
     "start_time": "2020-08-13T19:40:56.689886Z"
    },
    "hidden": true
   },
   "outputs": [],
   "source": [
    "from tqdm import tqdm\n",
    "from tqdm import tqdm_notebook"
   ]
  },
  {
   "cell_type": "code",
   "execution_count": null,
   "metadata": {
    "ExecuteTime": {
     "end_time": "2020-08-13T19:40:56.928800Z",
     "start_time": "2020-08-13T19:40:56.925795Z"
    },
    "hidden": true
   },
   "outputs": [],
   "source": [
    "# for coordinates in coords_list:\n",
    "#     # Lat / long\n",
    "#     coords = coordinates['latlng']\n",
    "# coords"
   ]
  },
  {
   "cell_type": "code",
   "execution_count": null,
   "metadata": {
    "ExecuteTime": {
     "end_time": "2020-08-13T19:40:57.147423Z",
     "start_time": "2020-08-13T19:40:57.144431Z"
    },
    "hidden": true
   },
   "outputs": [],
   "source": [
    "# base_url = 'http://api.weatherstack.com/historical'\n",
    "# params_weather = {'access_key': weather_api_key, \n",
    "#                 'query': coords,\n",
    "#                 'historical_date_start': time_range_begin,\n",
    "#                 'historical_date_end': time_range_end,\n",
    "#                 'units': 'f'\n",
    "#              }\n",
    "# response = requests.get(base_url, params=params_weather).url\n",
    "# response"
   ]
  },
  {
   "cell_type": "code",
   "execution_count": null,
   "metadata": {
    "ExecuteTime": {
     "end_time": "2020-08-13T19:46:13.712093Z",
     "start_time": "2020-08-13T19:42:15.790366Z"
    },
    "hidden": true
   },
   "outputs": [],
   "source": [
    "pbar = tqdm(total=len(coords_list))\n",
    "\n",
    "tuple_of_data = []\n",
    "add_tuple = {}\n",
    "counter = 0\n",
    "\n",
    "def checkForTwo(number):\n",
    "#     if (int(number)) <= 1:\n",
    "#         number = '1'\n",
    "    if (int(number)) < 10:\n",
    "        number = \"0\" + str(number)\n",
    "    else:\n",
    "#         print(number)\n",
    "        number = str(number)\n",
    "        pass\n",
    "    return number\n",
    "\n",
    "for coordinates in coords_list:\n",
    "    # Lat / long\n",
    "    coords = coordinates['latlng']\n",
    "    \n",
    "    ######################\n",
    "    ## Earthquake time conversion\n",
    "    ######################\n",
    "    earthquake_time = coordinates['time']\n",
    "    dt3 = datetime.fromtimestamp(earthquake_time / 1000)\n",
    "    # Time range end is the day of the earthquake\n",
    "    time_range_end = str(dt3.year) + \"-\" + checkForTwo(dt3.month) + \"-\" + checkForTwo(dt3.day)\n",
    "    \n",
    "    # Time range begin is 3 days before the earthquake\n",
    "    four_day_series = dt3 - timedelta(3)\n",
    "    four_day_day = four_day_series\n",
    "    time_range_begin = str(dt3.year) + \"-\" + checkForTwo(dt3.month) + \"-\" + checkForTwo(four_day_day.day)\n",
    "    ######################\n",
    "    \n",
    "    base_url = 'http://api.weatherstack.com/historical'\n",
    "    params_weather = {'access_key': weather_api_key, \n",
    "                    'query': coords,\n",
    "                    'historical_date_start': time_range_begin,\n",
    "                    'historical_date_end': time_range_end,\n",
    "                    'units': 'f'\n",
    "                 }\n",
    "    \n",
    "    response = requests.get(base_url, params=params_weather).json()\n",
    "    # url_link = requests.get(base_url, params=params_weather).url\n",
    "\n",
    "    try: \n",
    "        # extract results\n",
    "        location = response.get('location')\n",
    "        # City, Country, Region\n",
    "        city = location[\"name\"]\n",
    "        country = location[\"country\"]\n",
    "        region = location[\"region\"]\n",
    "\n",
    "        # Historical Only\n",
    "        historical = response['historical']\n",
    "#         print(region)\n",
    "        for hist in historical:\n",
    "            add_tuple = {\n",
    "                'city': city,\n",
    "                'country': country,\n",
    "                'region': region,\n",
    "                'avgtemp': historical[hist]['avgtemp'],\n",
    "                'date': historical[hist]['date'],\n",
    "                'date_epoch': historical[hist]['date_epoch'],\n",
    "                'maxtemp': historical[hist]['maxtemp'],\n",
    "                'mintemp': historical[hist]['mintemp'],\n",
    "                'sunhour': historical[hist]['sunhour'],\n",
    "                'totalsnow': historical[hist]['totalsnow'],\n",
    "                'uv_index': historical[hist]['uv_index'],\n",
    "                'long': coordinates['long'],\n",
    "                'lat': coordinates['lat'],\n",
    "                'time': coordinates['time'],\n",
    "                'magnitude': coordinates['magnitude'],\n",
    "                'place': coordinates['place']\n",
    "            }\n",
    "            tuple_of_data.append(add_tuple)\n",
    "            pbar.update(1)\n",
    "    except TypeError as e:\n",
    "        pbar.update(1)\n",
    "    # print(e)\n",
    "        continue\n",
    "    pbar.update(1)\n",
    "    counter += 1\n",
    "\n",
    "pbar.close() \n",
    "\n",
    "# tuple_of_data"
   ]
  },
  {
   "cell_type": "code",
   "execution_count": null,
   "metadata": {
    "ExecuteTime": {
     "end_time": "2020-08-13T19:46:13.716111Z",
     "start_time": "2020-08-13T19:46:13.713119Z"
    },
    "hidden": true
   },
   "outputs": [],
   "source": [
    "len(tuple_of_data)"
   ]
  },
  {
   "cell_type": "markdown",
   "metadata": {
    "heading_collapsed": true
   },
   "source": [
    "## Saving to JSON"
   ]
  },
  {
   "cell_type": "code",
   "execution_count": null,
   "metadata": {
    "ExecuteTime": {
     "end_time": "2020-08-13T19:52:41.485618Z",
     "start_time": "2020-08-13T19:52:41.481628Z"
    },
    "hidden": true
   },
   "outputs": [],
   "source": [
    "from datetime import datetime\n",
    "now = datetime.now()"
   ]
  },
  {
   "cell_type": "code",
   "execution_count": null,
   "metadata": {
    "ExecuteTime": {
     "end_time": "2020-08-13T19:52:41.990668Z",
     "start_time": "2020-08-13T19:52:41.921749Z"
    },
    "hidden": true
   },
   "outputs": [],
   "source": [
    "# Get time\n",
    "timedate = now.strftime(\"%Y-%m-%d_%H_%M_%S\")\n",
    "\n",
    "# SAVE: Player_position\n",
    "with open(f'../{timedate}_4_day_weather_for_earthquakes.json', 'w') as fp:\n",
    "    json.dump(tuple_of_data, fp)\n",
    "    "
   ]
  },
  {
   "cell_type": "code",
   "execution_count": null,
   "metadata": {
    "ExecuteTime": {
     "end_time": "2020-08-12T04:30:39.823527Z",
     "start_time": "2020-08-12T04:30:39.820507Z"
    },
    "hidden": true
   },
   "outputs": [],
   "source": [
    "# del tuple_of_data"
   ]
  },
  {
   "cell_type": "markdown",
   "metadata": {},
   "source": [
    "## Opening JSON .. Do not have to run the api again."
   ]
  },
  {
   "cell_type": "code",
   "execution_count": null,
   "metadata": {
    "ExecuteTime": {
     "end_time": "2020-08-13T19:52:54.729375Z",
     "start_time": "2020-08-13T19:52:54.714416Z"
    }
   },
   "outputs": [],
   "source": [
    "# Open raw json to parse\n",
    "with open('../2020-08-13_12_52_41_4_day_weather_for_earthquakes.json', 'r') as f:\n",
    "    weather_earthquake_data = json.load(f)"
   ]
  },
  {
   "cell_type": "code",
   "execution_count": null,
   "metadata": {
    "ExecuteTime": {
     "end_time": "2020-08-13T19:52:55.358088Z",
     "start_time": "2020-08-13T19:52:55.339138Z"
    }
   },
   "outputs": [],
   "source": [
    "# Dataframe to see raw(cleaned) data\n",
    "all_logs = pd.DataFrame(weather_earthquake_data)\n",
    "all_logs.head()"
   ]
  },
  {
   "cell_type": "code",
   "execution_count": null,
   "metadata": {
    "ExecuteTime": {
     "end_time": "2020-08-13T17:05:49.615599Z",
     "start_time": "2020-08-13T17:05:49.595652Z"
    }
   },
   "outputs": [],
   "source": []
  },
  {
   "cell_type": "markdown",
   "metadata": {},
   "source": [
    "## Upload to PostgreSQL"
   ]
  },
  {
   "cell_type": "code",
   "execution_count": null,
   "metadata": {
    "ExecuteTime": {
     "end_time": "2020-08-13T19:53:27.876931Z",
     "start_time": "2020-08-13T19:53:27.873939Z"
    }
   },
   "outputs": [],
   "source": [
    "# Use this to clear out the db\n",
    "# ----------------------------------\n",
    "# # Session.rollback(self)\n",
    "# Base.metadata.drop_all(engine)\n",
    "# session.commit()"
   ]
  },
  {
   "cell_type": "code",
   "execution_count": null,
   "metadata": {
    "ExecuteTime": {
     "end_time": "2020-08-13T19:53:28.103140Z",
     "start_time": "2020-08-13T19:53:28.100145Z"
    }
   },
   "outputs": [],
   "source": [
    "# Delete previous entries\n",
    "# del WeatherSeries\n",
    "# del LatLong"
   ]
  },
  {
   "cell_type": "code",
   "execution_count": 3,
   "metadata": {
    "ExecuteTime": {
     "end_time": "2020-08-14T03:06:24.674849Z",
     "start_time": "2020-08-14T03:06:24.557745Z"
    }
   },
   "outputs": [],
   "source": [
    "# Dependencies\n",
    "# ----------------------------------\n",
    "# Imports the method used for connecting to DBs\n",
    "from sqlalchemy import create_engine\n",
    "# Allow us to declare column types\n",
    "from sqlalchemy import Column, Integer, String, Text, DateTime, Float, Boolean, ForeignKey\n",
    "from sqlalchemy.orm import relationship\n",
    "from sqlalchemy.ext.declarative import declarative_base\n",
    "from sqlalchemy.orm import Session"
   ]
  },
  {
   "cell_type": "code",
   "execution_count": 4,
   "metadata": {
    "ExecuteTime": {
     "end_time": "2020-08-14T03:06:25.617803Z",
     "start_time": "2020-08-14T03:06:25.613814Z"
    }
   },
   "outputs": [],
   "source": [
    "# Create Weather and Earthquake Classes\n",
    "# ----------------------------------\n",
    "# Sets an object to utilize the default declarative base in SQL Alchemy\n",
    "Base = declarative_base()"
   ]
  },
  {
   "cell_type": "code",
   "execution_count": null,
   "metadata": {
    "ExecuteTime": {
     "end_time": "2020-08-13T19:53:28.634423Z",
     "start_time": "2020-08-13T19:53:28.628432Z"
    }
   },
   "outputs": [],
   "source": [
    "## Class base template to upload to sqlite\n",
    "class WeatherSeries(Base):\n",
    "    __tablename__ = 'weatherSeries'\n",
    "\n",
    "    id = Column(Integer, primary_key=True)\n",
    "    city = Column(String(50))\n",
    "    country = Column(String(200))\n",
    "    region = Column(String(80))\n",
    "    avgtemp = Column(Float)\n",
    "    date = Column(String(12))\n",
    "    date_epoch = Column(Float)\n",
    "    maxtemp = Column(Float)\n",
    "    mintemp = Column(Float)\n",
    "    sunhour = Column(Float)\n",
    "    totalsnow = Column(Float)\n",
    "    uv_index = Column(Float)\n",
    "    magnitude = Column(Float)\n",
    "    place = Column(String(80))\n",
    "    lat = Column(String(12))\n",
    "    long = Column(String(12))\n",
    "    \n",
    "# class LatLong(Base):\n",
    "#     __tablename__ = 'latlong'\n",
    "#     id = Column(Integer, primary_key=True)\n",
    "#     lat = Column(String(12))\n",
    "#     long = Column(String(12))\n",
    "#     lat_rel = Column(Integer, ForeignKey('weatherSeries.id'))\n",
    "#     weatherSer = relationship(WeatherSeries, primaryjoin=lat_rel == WeatherSeries.id)\n",
    "#     latlong_id = Column(String,ForeignKey('latlong.id'))\n",
    "#     latlong_rel = relationship(LatLong)\n",
    "#     lat = Column(String(12))\n",
    "#     long = Column(String(12))"
   ]
  },
  {
   "cell_type": "code",
   "execution_count": 5,
   "metadata": {
    "ExecuteTime": {
     "end_time": "2020-08-14T03:06:27.068898Z",
     "start_time": "2020-08-14T03:06:27.056931Z"
    }
   },
   "outputs": [],
   "source": [
    "# Create Database Connection\n",
    "# ----------------------------------\n",
    "# Creates a connection to our DB\n",
    "# Engine opens the door. Conn is the walk through sign\n",
    "engine = create_engine(\"sqlite:///data/py/earthquake_weather.sqlite\")\n",
    "conn = engine.connect()\n",
    "# Create a \"Metadata\" Layer That Abstracts our SQL Database\n",
    "# ----------------------------------\n",
    "# Create (if not already in existence) the tables associated with our classes.\n",
    "Base.metadata.create_all(engine)\n",
    "# Create a Session Object to Connect to DB\n",
    "# ----------------------------------\n",
    "session = Session(bind=engine)"
   ]
  },
  {
   "cell_type": "code",
   "execution_count": null,
   "metadata": {
    "ExecuteTime": {
     "end_time": "2020-08-13T19:53:31.333760Z",
     "start_time": "2020-08-13T19:53:31.331746Z"
    },
    "scrolled": true
   },
   "outputs": [],
   "source": [
    "# ## Add weather series to sql\n",
    "# x=0\n",
    "# while x <= (len(all_logs) - 1):    \n",
    "#     lat_long_data = LatLong(\n",
    "#         lat = all_logs[\"lat\"][x],\n",
    "#         long = all_logs[\"long\"][x]\n",
    "#         )\n",
    "#     x+=1\n",
    "#     # Add Records to the Appropriate DB\n",
    "#     # ----------------------------------\n",
    "#     # Use the SQL ALchemy methods to run simple \"INSERT\" statements using the classes and objects  \n",
    "#     session.add(lat_long_data)\n",
    "#     # session.add(earthquake_data)\n",
    "#     session.commit()\n",
    "# print('Complete: Uploaded to SQLite DB')"
   ]
  },
  {
   "cell_type": "code",
   "execution_count": null,
   "metadata": {
    "ExecuteTime": {
     "end_time": "2020-08-13T19:53:34.519465Z",
     "start_time": "2020-08-13T19:53:34.512463Z"
    }
   },
   "outputs": [],
   "source": [
    "## Function: Add Weather Series to sql\n",
    "def addToSQL(all_logs):\n",
    "    x=0\n",
    "    while x <= (len(all_logs) - 1):\n",
    "        try: \n",
    "            weather_data = WeatherSeries(\n",
    "                city = all_logs[\"city\"][x],\n",
    "                country = all_logs[\"country\"][x],\n",
    "                region = all_logs[\"region\"][x],\n",
    "                avgtemp = all_logs[\"avgtemp\"][x],\n",
    "                date = all_logs[\"date\"][x],\n",
    "                date_epoch = all_logs[\"date_epoch\"][x],\n",
    "                maxtemp = all_logs[\"maxtemp\"][x],\n",
    "                mintemp = all_logs[\"mintemp\"][x],\n",
    "                sunhour = all_logs[\"sunhour\"][x],\n",
    "                totalsnow = all_logs[\"totalsnow\"][x],\n",
    "                uv_index = all_logs[\"uv_index\"][x],\n",
    "                magnitude = all_logs[\"magnitude\"][x],\n",
    "                place = all_logs[\"place\"][x],\n",
    "                lat = all_logs[\"lat\"][x],\n",
    "                long = all_logs[\"long\"][x],\n",
    "                )\n",
    "            x+=1\n",
    "        except OperationalError:\n",
    "            pass\n",
    "            \n",
    "        # Add Records to the Appropriate DB\n",
    "        # ----------------------------------\n",
    "        # Use the SQL ALchemy methods to run simple \"INSERT\" statements using the classes and objects  \n",
    "        session.add(weather_data)\n",
    "        # session.add(earthquake_data)\n",
    "        session.commit()\n",
    "    return 'Complete: Uploaded to SQLite DB'"
   ]
  },
  {
   "cell_type": "code",
   "execution_count": null,
   "metadata": {
    "ExecuteTime": {
     "end_time": "2020-08-13T19:53:47.753721Z",
     "start_time": "2020-08-13T19:53:34.803100Z"
    },
    "scrolled": true
   },
   "outputs": [],
   "source": [
    "addToSQL(all_logs)"
   ]
  },
  {
   "cell_type": "markdown",
   "metadata": {},
   "source": [
    "----"
   ]
  },
  {
   "cell_type": "markdown",
   "metadata": {},
   "source": [
    "## Query from DB"
   ]
  },
  {
   "cell_type": "markdown",
   "metadata": {},
   "source": [
    "DataFrame "
   ]
  },
  {
   "cell_type": "code",
   "execution_count": 6,
   "metadata": {
    "ExecuteTime": {
     "end_time": "2020-08-14T03:06:30.329359Z",
     "start_time": "2020-08-14T03:06:30.299246Z"
    }
   },
   "outputs": [
    {
     "data": {
      "text/html": [
       "<div>\n",
       "<style scoped>\n",
       "    .dataframe tbody tr th:only-of-type {\n",
       "        vertical-align: middle;\n",
       "    }\n",
       "\n",
       "    .dataframe tbody tr th {\n",
       "        vertical-align: top;\n",
       "    }\n",
       "\n",
       "    .dataframe thead th {\n",
       "        text-align: right;\n",
       "    }\n",
       "</style>\n",
       "<table border=\"1\" class=\"dataframe\">\n",
       "  <thead>\n",
       "    <tr style=\"text-align: right;\">\n",
       "      <th></th>\n",
       "      <th>id</th>\n",
       "      <th>city</th>\n",
       "      <th>country</th>\n",
       "      <th>region</th>\n",
       "      <th>avgtemp</th>\n",
       "      <th>date</th>\n",
       "      <th>date_epoch</th>\n",
       "      <th>maxtemp</th>\n",
       "      <th>mintemp</th>\n",
       "      <th>sunhour</th>\n",
       "      <th>totalsnow</th>\n",
       "      <th>uv_index</th>\n",
       "      <th>magnitude</th>\n",
       "      <th>place</th>\n",
       "      <th>lat</th>\n",
       "      <th>long</th>\n",
       "    </tr>\n",
       "  </thead>\n",
       "  <tbody>\n",
       "    <tr>\n",
       "      <th>0</th>\n",
       "      <td>1</td>\n",
       "      <td>Pasivaram</td>\n",
       "      <td>Tajikistan</td>\n",
       "      <td>Khatlon</td>\n",
       "      <td>75.0</td>\n",
       "      <td>2020-08-10</td>\n",
       "      <td>1.597018e+09</td>\n",
       "      <td>79.0</td>\n",
       "      <td>59.0</td>\n",
       "      <td>13.9</td>\n",
       "      <td>0.0</td>\n",
       "      <td>6.0</td>\n",
       "      <td>4.8</td>\n",
       "      <td>19 km SE of Obigarm, Tajikistan</td>\n",
       "      <td>38.5804</td>\n",
       "      <td>69.8465</td>\n",
       "    </tr>\n",
       "    <tr>\n",
       "      <th>1</th>\n",
       "      <td>2</td>\n",
       "      <td>Pasivaram</td>\n",
       "      <td>Tajikistan</td>\n",
       "      <td>Khatlon</td>\n",
       "      <td>73.0</td>\n",
       "      <td>2020-08-11</td>\n",
       "      <td>1.597104e+09</td>\n",
       "      <td>79.0</td>\n",
       "      <td>59.0</td>\n",
       "      <td>13.9</td>\n",
       "      <td>0.0</td>\n",
       "      <td>6.0</td>\n",
       "      <td>4.8</td>\n",
       "      <td>19 km SE of Obigarm, Tajikistan</td>\n",
       "      <td>38.5804</td>\n",
       "      <td>69.8465</td>\n",
       "    </tr>\n",
       "    <tr>\n",
       "      <th>2</th>\n",
       "      <td>3</td>\n",
       "      <td>Pasivaram</td>\n",
       "      <td>Tajikistan</td>\n",
       "      <td>Khatlon</td>\n",
       "      <td>73.0</td>\n",
       "      <td>2020-08-12</td>\n",
       "      <td>1.597190e+09</td>\n",
       "      <td>77.0</td>\n",
       "      <td>57.0</td>\n",
       "      <td>13.9</td>\n",
       "      <td>0.0</td>\n",
       "      <td>6.0</td>\n",
       "      <td>4.8</td>\n",
       "      <td>19 km SE of Obigarm, Tajikistan</td>\n",
       "      <td>38.5804</td>\n",
       "      <td>69.8465</td>\n",
       "    </tr>\n",
       "    <tr>\n",
       "      <th>3</th>\n",
       "      <td>4</td>\n",
       "      <td>Pasivaram</td>\n",
       "      <td>Tajikistan</td>\n",
       "      <td>Khatlon</td>\n",
       "      <td>75.0</td>\n",
       "      <td>2020-08-13</td>\n",
       "      <td>1.597277e+09</td>\n",
       "      <td>79.0</td>\n",
       "      <td>59.0</td>\n",
       "      <td>13.8</td>\n",
       "      <td>0.0</td>\n",
       "      <td>6.0</td>\n",
       "      <td>4.8</td>\n",
       "      <td>19 km SE of Obigarm, Tajikistan</td>\n",
       "      <td>38.5804</td>\n",
       "      <td>69.8465</td>\n",
       "    </tr>\n",
       "    <tr>\n",
       "      <th>4</th>\n",
       "      <td>5</td>\n",
       "      <td>Buuni Village</td>\n",
       "      <td>Tanzania</td>\n",
       "      <td>Pwani</td>\n",
       "      <td>79.0</td>\n",
       "      <td>2020-08-10</td>\n",
       "      <td>1.597018e+09</td>\n",
       "      <td>84.0</td>\n",
       "      <td>68.0</td>\n",
       "      <td>11.6</td>\n",
       "      <td>0.0</td>\n",
       "      <td>7.0</td>\n",
       "      <td>5.0</td>\n",
       "      <td>Tanzania</td>\n",
       "      <td>-7.3912</td>\n",
       "      <td>39.8924</td>\n",
       "    </tr>\n",
       "  </tbody>\n",
       "</table>\n",
       "</div>"
      ],
      "text/plain": [
       "   id           city     country   region  avgtemp        date    date_epoch  \\\n",
       "0   1      Pasivaram  Tajikistan  Khatlon     75.0  2020-08-10  1.597018e+09   \n",
       "1   2      Pasivaram  Tajikistan  Khatlon     73.0  2020-08-11  1.597104e+09   \n",
       "2   3      Pasivaram  Tajikistan  Khatlon     73.0  2020-08-12  1.597190e+09   \n",
       "3   4      Pasivaram  Tajikistan  Khatlon     75.0  2020-08-13  1.597277e+09   \n",
       "4   5  Buuni Village    Tanzania    Pwani     79.0  2020-08-10  1.597018e+09   \n",
       "\n",
       "   maxtemp  mintemp  sunhour  totalsnow  uv_index  magnitude  \\\n",
       "0     79.0     59.0     13.9        0.0       6.0        4.8   \n",
       "1     79.0     59.0     13.9        0.0       6.0        4.8   \n",
       "2     77.0     57.0     13.9        0.0       6.0        4.8   \n",
       "3     79.0     59.0     13.8        0.0       6.0        4.8   \n",
       "4     84.0     68.0     11.6        0.0       7.0        5.0   \n",
       "\n",
       "                             place      lat     long  \n",
       "0  19 km SE of Obigarm, Tajikistan  38.5804  69.8465  \n",
       "1  19 km SE of Obigarm, Tajikistan  38.5804  69.8465  \n",
       "2  19 km SE of Obigarm, Tajikistan  38.5804  69.8465  \n",
       "3  19 km SE of Obigarm, Tajikistan  38.5804  69.8465  \n",
       "4                         Tanzania  -7.3912  39.8924  "
      ]
     },
     "execution_count": 6,
     "metadata": {},
     "output_type": "execute_result"
    }
   ],
   "source": [
    "# Verify Data \n",
    "# Create DataFrame from sql table Weather\n",
    "weather_data_df = pd.read_sql(\"SELECT * FROM WeatherSeries\", conn)\n",
    "weather_data_df.head()"
   ]
  },
  {
   "cell_type": "code",
   "execution_count": 7,
   "metadata": {
    "ExecuteTime": {
     "end_time": "2020-08-14T03:06:52.400831Z",
     "start_time": "2020-08-14T03:06:52.388835Z"
    }
   },
   "outputs": [
    {
     "data": {
      "text/html": [
       "<div>\n",
       "<style scoped>\n",
       "    .dataframe tbody tr th:only-of-type {\n",
       "        vertical-align: middle;\n",
       "    }\n",
       "\n",
       "    .dataframe tbody tr th {\n",
       "        vertical-align: top;\n",
       "    }\n",
       "\n",
       "    .dataframe thead th {\n",
       "        text-align: right;\n",
       "    }\n",
       "</style>\n",
       "<table border=\"1\" class=\"dataframe\">\n",
       "  <thead>\n",
       "    <tr style=\"text-align: right;\">\n",
       "      <th></th>\n",
       "      <th>id</th>\n",
       "      <th>city</th>\n",
       "      <th>country</th>\n",
       "      <th>region</th>\n",
       "      <th>avgtemp</th>\n",
       "      <th>date</th>\n",
       "      <th>date_epoch</th>\n",
       "      <th>maxtemp</th>\n",
       "      <th>mintemp</th>\n",
       "      <th>sunhour</th>\n",
       "      <th>totalsnow</th>\n",
       "      <th>uv_index</th>\n",
       "      <th>magnitude</th>\n",
       "      <th>place</th>\n",
       "      <th>lat</th>\n",
       "      <th>long</th>\n",
       "    </tr>\n",
       "  </thead>\n",
       "  <tbody>\n",
       "    <tr>\n",
       "      <th>8</th>\n",
       "      <td>9</td>\n",
       "      <td>Sanak</td>\n",
       "      <td>United States of America</td>\n",
       "      <td>Alaska</td>\n",
       "      <td>52.0</td>\n",
       "      <td>2020-08-09</td>\n",
       "      <td>1.596931e+09</td>\n",
       "      <td>54.0</td>\n",
       "      <td>52.0</td>\n",
       "      <td>10.4</td>\n",
       "      <td>0.0</td>\n",
       "      <td>3.0</td>\n",
       "      <td>5.7</td>\n",
       "      <td>Unimak Island region, Alaska</td>\n",
       "      <td>53.42</td>\n",
       "      <td>-163.6973</td>\n",
       "    </tr>\n",
       "    <tr>\n",
       "      <th>9</th>\n",
       "      <td>10</td>\n",
       "      <td>Sanak</td>\n",
       "      <td>United States of America</td>\n",
       "      <td>Alaska</td>\n",
       "      <td>52.0</td>\n",
       "      <td>2020-08-10</td>\n",
       "      <td>1.597018e+09</td>\n",
       "      <td>52.0</td>\n",
       "      <td>43.0</td>\n",
       "      <td>10.4</td>\n",
       "      <td>0.0</td>\n",
       "      <td>3.0</td>\n",
       "      <td>5.7</td>\n",
       "      <td>Unimak Island region, Alaska</td>\n",
       "      <td>53.42</td>\n",
       "      <td>-163.6973</td>\n",
       "    </tr>\n",
       "    <tr>\n",
       "      <th>10</th>\n",
       "      <td>11</td>\n",
       "      <td>Sanak</td>\n",
       "      <td>United States of America</td>\n",
       "      <td>Alaska</td>\n",
       "      <td>52.0</td>\n",
       "      <td>2020-08-11</td>\n",
       "      <td>1.597104e+09</td>\n",
       "      <td>52.0</td>\n",
       "      <td>45.0</td>\n",
       "      <td>9.4</td>\n",
       "      <td>0.0</td>\n",
       "      <td>3.0</td>\n",
       "      <td>5.7</td>\n",
       "      <td>Unimak Island region, Alaska</td>\n",
       "      <td>53.42</td>\n",
       "      <td>-163.6973</td>\n",
       "    </tr>\n",
       "    <tr>\n",
       "      <th>11</th>\n",
       "      <td>12</td>\n",
       "      <td>Sanak</td>\n",
       "      <td>United States of America</td>\n",
       "      <td>Alaska</td>\n",
       "      <td>52.0</td>\n",
       "      <td>2020-08-12</td>\n",
       "      <td>1.597190e+09</td>\n",
       "      <td>52.0</td>\n",
       "      <td>36.0</td>\n",
       "      <td>9.4</td>\n",
       "      <td>0.0</td>\n",
       "      <td>3.0</td>\n",
       "      <td>5.7</td>\n",
       "      <td>Unimak Island region, Alaska</td>\n",
       "      <td>53.42</td>\n",
       "      <td>-163.6973</td>\n",
       "    </tr>\n",
       "  </tbody>\n",
       "</table>\n",
       "</div>"
      ],
      "text/plain": [
       "    id   city                   country  region  avgtemp        date  \\\n",
       "8    9  Sanak  United States of America  Alaska     52.0  2020-08-09   \n",
       "9   10  Sanak  United States of America  Alaska     52.0  2020-08-10   \n",
       "10  11  Sanak  United States of America  Alaska     52.0  2020-08-11   \n",
       "11  12  Sanak  United States of America  Alaska     52.0  2020-08-12   \n",
       "\n",
       "      date_epoch  maxtemp  mintemp  sunhour  totalsnow  uv_index  magnitude  \\\n",
       "8   1.596931e+09     54.0     52.0     10.4        0.0       3.0        5.7   \n",
       "9   1.597018e+09     52.0     43.0     10.4        0.0       3.0        5.7   \n",
       "10  1.597104e+09     52.0     45.0      9.4        0.0       3.0        5.7   \n",
       "11  1.597190e+09     52.0     36.0      9.4        0.0       3.0        5.7   \n",
       "\n",
       "                           place    lat       long  \n",
       "8   Unimak Island region, Alaska  53.42  -163.6973  \n",
       "9   Unimak Island region, Alaska  53.42  -163.6973  \n",
       "10  Unimak Island region, Alaska  53.42  -163.6973  \n",
       "11  Unimak Island region, Alaska  53.42  -163.6973  "
      ]
     },
     "execution_count": 7,
     "metadata": {},
     "output_type": "execute_result"
    }
   ],
   "source": [
    "weather_data_df[weather_data_df['lat'] == \"53.42\"]"
   ]
  },
  {
   "cell_type": "markdown",
   "metadata": {},
   "source": [
    "#### Python call from db. For flask to web"
   ]
  },
  {
   "cell_type": "code",
   "execution_count": null,
   "metadata": {},
   "outputs": [],
   "source": [
    "# # Python SQL toolkit and Object Relational Mapper\n",
    "# import sqlalchemy\n",
    "# # Go to existing database with automap_base\n",
    "# from sqlalchemy.ext.automap import automap_base\n",
    "# # Work through mapper to use python code\n",
    "# from sqlalchemy.orm import Session\n",
    "# # Inspect with python\n",
    "# from sqlalchemy import create_engine, inspect\n"
   ]
  },
  {
   "cell_type": "code",
   "execution_count": null,
   "metadata": {
    "ExecuteTime": {
     "end_time": "2020-08-13T20:58:16.978463Z",
     "start_time": "2020-08-13T20:58:16.971482Z"
    }
   },
   "outputs": [],
   "source": [
    "# def weatherTimeSeries(query_call):\n",
    "#     Base = automap_base()\n",
    "#     Base.prepare(engine, reflect=True)\n",
    "#     # Check db table names\n",
    "#     # Base.classes.keys()\n",
    "#     weather_table = Base.classes.weatherSeries\n",
    "#     weather_container = session.query(weather_table).filter(weather_table.lat == query_call).all()\n",
    "#     weather_data = []\n",
    "#     for data in weather_container:\n",
    "#         container = {\n",
    "#             \"city\": data.city, \n",
    "#             \"country\": data.country, \n",
    "#             \"region\": data.region, \n",
    "#             \"avgtemp\": data.avgtemp, \n",
    "#             \"date\": data.date, \n",
    "#             \"date_epoch\": data.date_epoch, \n",
    "#             \"maxtemp\": data.maxtemp, \n",
    "#             \"mintemp\": data.mintemp, \n",
    "#             \"sunhour\": data.sunhour, \n",
    "#             \"totalsnow\": data.totalsnow, \n",
    "#             \"uv_index\": data.uv_index, \n",
    "#             \"magnitude\": data.magnitude, \n",
    "#             \"place\": data.place, \n",
    "#             \"lat\": data.lat, \n",
    "#             \"long\": data.long\n",
    "#         }\n",
    "#         weather_data.append(container)\n",
    "#     return weather_data"
   ]
  },
  {
   "cell_type": "code",
   "execution_count": null,
   "metadata": {
    "ExecuteTime": {
     "end_time": "2020-08-13T20:58:17.627989Z",
     "start_time": "2020-08-13T20:58:17.613029Z"
    }
   },
   "outputs": [],
   "source": [
    "# latitude = '53.42'\n",
    "# query_from_db_to_web = weatherTimeSeries(latitude)\n",
    "# query_from_db_to_web"
   ]
  },
  {
   "cell_type": "markdown",
   "metadata": {},
   "source": [
    "------"
   ]
  },
  {
   "cell_type": "code",
   "execution_count": null,
   "metadata": {},
   "outputs": [],
   "source": [
    "# latlong_container = session.query(latlong_table).filter(latlong_table.lat == '').all()"
   ]
  },
  {
   "cell_type": "code",
   "execution_count": null,
   "metadata": {
    "ExecuteTime": {
     "end_time": "2020-08-13T03:18:50.959907Z",
     "start_time": "2020-08-13T03:18:50.956886Z"
    }
   },
   "outputs": [],
   "source": [
    "# for data in latlong_table:\n",
    "#     print(f\"Date: {data.lat}, Temp: {data.long}\")"
   ]
  },
  {
   "cell_type": "code",
   "execution_count": null,
   "metadata": {
    "ExecuteTime": {
     "end_time": "2020-08-13T03:17:44.639252Z",
     "start_time": "2020-08-13T03:17:44.635284Z"
    }
   },
   "outputs": [],
   "source": [
    "# Join two tables in the db\n",
    "# def join_example():\n",
    "#     records = session.query(WeatherSeries).\\\n",
    "#         join(LatLong, LatLong.id == WeatherSeries.id).all()\n",
    "# #     print(records)\n",
    "#     for record in records:\n",
    "#         recordObject = {\n",
    "#             'city': record.city,\n",
    "#             'country': record.country,\n",
    "#             'date': record.date,\n",
    "#             'maxtemp': record.maxtemp,\n",
    "#             'latlong_rel': record.latlong_rel\n",
    "#         }\n",
    "#         print(recordObject)\n",
    "# join_example()        "
   ]
  },
  {
   "cell_type": "code",
   "execution_count": null,
   "metadata": {
    "ExecuteTime": {
     "end_time": "2020-08-13T03:10:23.766957Z",
     "start_time": "2020-08-13T03:10:23.751969Z"
    }
   },
   "outputs": [],
   "source": [
    "# Create DataFrame from sql table Weather\n",
    "# weather_data_df = pd.read_sql(\"SELECT * FROM LatLong\", conn)\n",
    "# weather_data_df"
   ]
  },
  {
   "cell_type": "code",
   "execution_count": null,
   "metadata": {},
   "outputs": [],
   "source": [
    "### \n",
    "## KEEP !!\n",
    "## DO NOT DELETE ALL THIS\n",
    "###\n",
    "\n",
    "# Create a Specific Instance of the \"weather_data\" and \"earthquake_data\" classes\n",
    "# ----------------------------------\n",
    "# Data needs to pass through this. A for loop while need to be created to consistantly send multiple files\n",
    "# weather_data = WeatherSeries(\n",
    "#     lat = '',\n",
    "#     lon = '',\n",
    "#     date = '',\n",
    "#     city = '',\n",
    "#     country = '',\n",
    "#     region = '',\n",
    "#     avgtemp = '',\n",
    "#     date_epoch = '',\n",
    "#     maxtemp = '',\n",
    "#     mintemp = '',\n",
    "#     sunhour = '',\n",
    "#     totalsnow = '',\n",
    "#     uv_index = '',\n",
    "#     )\n",
    "\n",
    "# earthquake_data = Earthquake(\n",
    "#     lat = '',\n",
    "#     lon = '',\n",
    "#     date = '',\n",
    "#     mag = '',\n",
    "#     location = ''\n",
    "#     )"
   ]
  },
  {
   "cell_type": "markdown",
   "metadata": {},
   "source": [
    "-------------"
   ]
  },
  {
   "cell_type": "markdown",
   "metadata": {},
   "source": [
    "-----------"
   ]
  },
  {
   "cell_type": "code",
   "execution_count": null,
   "metadata": {
    "ExecuteTime": {
     "end_time": "2020-08-12T10:27:56.043030Z",
     "start_time": "2020-08-12T10:27:56.040038Z"
    }
   },
   "outputs": [],
   "source": [
    "# def checkEqual3(lst):\n",
    "#     return lst[1:] == lst[:-1]\n",
    "\n",
    "# def checkRowValueDups(data):\n",
    "#     dictOfKeys = data.keys()\n",
    "#     for column in data:\n",
    "#         column_values = data[column].to_list()\n",
    "#         result = checkEqual3(column_values)\n",
    "# #         print('passed.')\n",
    "#     if result == True:\n",
    "#         all_logs_df = all_logs.iloc[0:1, 0:]\n",
    "#     else:\n",
    "#         print(\"Couldnt complete cleaning. Different value found in column where only duplicates live. Check function checkRowValueDups() for information\")\n",
    "#     return all_logs_df\n",
    "\n",
    "# all_logs_df = checkRowValueDups(all_logs)"
   ]
  },
  {
   "cell_type": "code",
   "execution_count": null,
   "metadata": {
    "ExecuteTime": {
     "end_time": "2020-08-12T10:27:58.503194Z",
     "start_time": "2020-08-12T10:27:58.500244Z"
    }
   },
   "outputs": [],
   "source": [
    "# all_logs_df['2020-08-03'][0]"
   ]
  },
  {
   "cell_type": "code",
   "execution_count": null,
   "metadata": {},
   "outputs": [],
   "source": [
    "# stuff = (list(all_logs.itertuples(index=False, name=None)))"
   ]
  }
 ],
 "metadata": {
  "kernelspec": {
   "display_name": "Python 3.7.7 64-bit ('usc_bootcamp': conda)",
   "language": "python",
   "name": "python37764bituscbootcampconda3361b9ec87e5404d80e03b8fe2fcfaaf"
  },
  "language_info": {
   "codemirror_mode": {
    "name": "ipython",
    "version": 3
   },
   "file_extension": ".py",
   "mimetype": "text/x-python",
   "name": "python",
   "nbconvert_exporter": "python",
   "pygments_lexer": "ipython3",
   "version": "3.7.1"
  }
 },
 "nbformat": 4,
 "nbformat_minor": 4
}
